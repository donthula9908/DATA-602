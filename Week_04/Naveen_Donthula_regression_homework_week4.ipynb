{
  "cells": [
    {
      "cell_type": "markdown",
      "metadata": {
        "id": "GsXnC7XOd7rq"
      },
      "source": [
        "# Homework 4\n",
        "\n",
        "- Execute the below code, then answer the numbered questions."
      ]
    },
    {
      "cell_type": "code",
      "execution_count": 31,
      "metadata": {
        "id": "SBJHalYGd7rr",
        "outputId": "77130182-59b9-462c-c49a-9d6bb9d8dd52",
        "colab": {
          "base_uri": "https://localhost:8080/",
          "height": 667
        }
      },
      "outputs": [
        {
          "output_type": "stream",
          "name": "stdout",
          "text": [
            "<class 'pandas.core.frame.DataFrame'>\n",
            "RangeIndex: 9055 entries, 0 to 9054\n",
            "Data columns (total 7 columns):\n",
            " #   Column         Non-Null Count  Dtype  \n",
            "---  ------         --------------  -----  \n",
            " 0   make           8164 non-null   object \n",
            " 1   transmission   8106 non-null   object \n",
            " 2   state          8152 non-null   object \n",
            " 3   condition      8173 non-null   float64\n",
            " 4   odometer       8178 non-null   float64\n",
            " 5   auction_value  8107 non-null   float64\n",
            " 6   selling_price  9055 non-null   float64\n",
            "dtypes: float64(4), object(3)\n",
            "memory usage: 495.3+ KB\n"
          ]
        },
        {
          "output_type": "execute_result",
          "data": {
            "text/plain": [
              "        make transmission state  condition  odometer  auction_value  \\\n",
              "0     nissan    automatic    md        4.8       NaN        14350.0   \n",
              "1       ford    automatic    mo        3.7   29398.0        17600.0   \n",
              "2       ford    automatic    fl        3.2   32180.0        19100.0   \n",
              "3     nissan    automatic    ca        NaN   30798.0        11950.0   \n",
              "4       ford    automatic    nj        2.8   29526.0        28000.0   \n",
              "...      ...          ...   ...        ...       ...            ...   \n",
              "9050     NaN    automatic    il        4.2   41186.0            NaN   \n",
              "9051    ford    automatic    fl        NaN   38810.0        16250.0   \n",
              "9052  nissan          NaN    ga        4.7    4551.0        12500.0   \n",
              "9053    ford    automatic    il        4.6   33114.0        21800.0   \n",
              "9054    ford    automatic    ga        3.7   23776.0        28800.0   \n",
              "\n",
              "      selling_price  \n",
              "0           13600.0  \n",
              "1           17100.0  \n",
              "2           17600.0  \n",
              "3           10700.0  \n",
              "4           26100.0  \n",
              "...             ...  \n",
              "9050        11600.0  \n",
              "9051        17300.0  \n",
              "9052        13800.0  \n",
              "9053        27000.0  \n",
              "9054        29800.0  \n",
              "\n",
              "[9055 rows x 7 columns]"
            ],
            "text/html": [
              "\n",
              "  <div id=\"df-f04d9a3c-0c93-43f9-8dac-256fbc37e0c0\">\n",
              "    <div class=\"colab-df-container\">\n",
              "      <div>\n",
              "<style scoped>\n",
              "    .dataframe tbody tr th:only-of-type {\n",
              "        vertical-align: middle;\n",
              "    }\n",
              "\n",
              "    .dataframe tbody tr th {\n",
              "        vertical-align: top;\n",
              "    }\n",
              "\n",
              "    .dataframe thead th {\n",
              "        text-align: right;\n",
              "    }\n",
              "</style>\n",
              "<table border=\"1\" class=\"dataframe\">\n",
              "  <thead>\n",
              "    <tr style=\"text-align: right;\">\n",
              "      <th></th>\n",
              "      <th>make</th>\n",
              "      <th>transmission</th>\n",
              "      <th>state</th>\n",
              "      <th>condition</th>\n",
              "      <th>odometer</th>\n",
              "      <th>auction_value</th>\n",
              "      <th>selling_price</th>\n",
              "    </tr>\n",
              "  </thead>\n",
              "  <tbody>\n",
              "    <tr>\n",
              "      <th>0</th>\n",
              "      <td>nissan</td>\n",
              "      <td>automatic</td>\n",
              "      <td>md</td>\n",
              "      <td>4.8</td>\n",
              "      <td>NaN</td>\n",
              "      <td>14350.0</td>\n",
              "      <td>13600.0</td>\n",
              "    </tr>\n",
              "    <tr>\n",
              "      <th>1</th>\n",
              "      <td>ford</td>\n",
              "      <td>automatic</td>\n",
              "      <td>mo</td>\n",
              "      <td>3.7</td>\n",
              "      <td>29398.0</td>\n",
              "      <td>17600.0</td>\n",
              "      <td>17100.0</td>\n",
              "    </tr>\n",
              "    <tr>\n",
              "      <th>2</th>\n",
              "      <td>ford</td>\n",
              "      <td>automatic</td>\n",
              "      <td>fl</td>\n",
              "      <td>3.2</td>\n",
              "      <td>32180.0</td>\n",
              "      <td>19100.0</td>\n",
              "      <td>17600.0</td>\n",
              "    </tr>\n",
              "    <tr>\n",
              "      <th>3</th>\n",
              "      <td>nissan</td>\n",
              "      <td>automatic</td>\n",
              "      <td>ca</td>\n",
              "      <td>NaN</td>\n",
              "      <td>30798.0</td>\n",
              "      <td>11950.0</td>\n",
              "      <td>10700.0</td>\n",
              "    </tr>\n",
              "    <tr>\n",
              "      <th>4</th>\n",
              "      <td>ford</td>\n",
              "      <td>automatic</td>\n",
              "      <td>nj</td>\n",
              "      <td>2.8</td>\n",
              "      <td>29526.0</td>\n",
              "      <td>28000.0</td>\n",
              "      <td>26100.0</td>\n",
              "    </tr>\n",
              "    <tr>\n",
              "      <th>...</th>\n",
              "      <td>...</td>\n",
              "      <td>...</td>\n",
              "      <td>...</td>\n",
              "      <td>...</td>\n",
              "      <td>...</td>\n",
              "      <td>...</td>\n",
              "      <td>...</td>\n",
              "    </tr>\n",
              "    <tr>\n",
              "      <th>9050</th>\n",
              "      <td>NaN</td>\n",
              "      <td>automatic</td>\n",
              "      <td>il</td>\n",
              "      <td>4.2</td>\n",
              "      <td>41186.0</td>\n",
              "      <td>NaN</td>\n",
              "      <td>11600.0</td>\n",
              "    </tr>\n",
              "    <tr>\n",
              "      <th>9051</th>\n",
              "      <td>ford</td>\n",
              "      <td>automatic</td>\n",
              "      <td>fl</td>\n",
              "      <td>NaN</td>\n",
              "      <td>38810.0</td>\n",
              "      <td>16250.0</td>\n",
              "      <td>17300.0</td>\n",
              "    </tr>\n",
              "    <tr>\n",
              "      <th>9052</th>\n",
              "      <td>nissan</td>\n",
              "      <td>NaN</td>\n",
              "      <td>ga</td>\n",
              "      <td>4.7</td>\n",
              "      <td>4551.0</td>\n",
              "      <td>12500.0</td>\n",
              "      <td>13800.0</td>\n",
              "    </tr>\n",
              "    <tr>\n",
              "      <th>9053</th>\n",
              "      <td>ford</td>\n",
              "      <td>automatic</td>\n",
              "      <td>il</td>\n",
              "      <td>4.6</td>\n",
              "      <td>33114.0</td>\n",
              "      <td>21800.0</td>\n",
              "      <td>27000.0</td>\n",
              "    </tr>\n",
              "    <tr>\n",
              "      <th>9054</th>\n",
              "      <td>ford</td>\n",
              "      <td>automatic</td>\n",
              "      <td>ga</td>\n",
              "      <td>3.7</td>\n",
              "      <td>23776.0</td>\n",
              "      <td>28800.0</td>\n",
              "      <td>29800.0</td>\n",
              "    </tr>\n",
              "  </tbody>\n",
              "</table>\n",
              "<p>9055 rows × 7 columns</p>\n",
              "</div>\n",
              "      <button class=\"colab-df-convert\" onclick=\"convertToInteractive('df-f04d9a3c-0c93-43f9-8dac-256fbc37e0c0')\"\n",
              "              title=\"Convert this dataframe to an interactive table.\"\n",
              "              style=\"display:none;\">\n",
              "        \n",
              "  <svg xmlns=\"http://www.w3.org/2000/svg\" height=\"24px\"viewBox=\"0 0 24 24\"\n",
              "       width=\"24px\">\n",
              "    <path d=\"M0 0h24v24H0V0z\" fill=\"none\"/>\n",
              "    <path d=\"M18.56 5.44l.94 2.06.94-2.06 2.06-.94-2.06-.94-.94-2.06-.94 2.06-2.06.94zm-11 1L8.5 8.5l.94-2.06 2.06-.94-2.06-.94L8.5 2.5l-.94 2.06-2.06.94zm10 10l.94 2.06.94-2.06 2.06-.94-2.06-.94-.94-2.06-.94 2.06-2.06.94z\"/><path d=\"M17.41 7.96l-1.37-1.37c-.4-.4-.92-.59-1.43-.59-.52 0-1.04.2-1.43.59L10.3 9.45l-7.72 7.72c-.78.78-.78 2.05 0 2.83L4 21.41c.39.39.9.59 1.41.59.51 0 1.02-.2 1.41-.59l7.78-7.78 2.81-2.81c.8-.78.8-2.07 0-2.86zM5.41 20L4 18.59l7.72-7.72 1.47 1.35L5.41 20z\"/>\n",
              "  </svg>\n",
              "      </button>\n",
              "      \n",
              "  <style>\n",
              "    .colab-df-container {\n",
              "      display:flex;\n",
              "      flex-wrap:wrap;\n",
              "      gap: 12px;\n",
              "    }\n",
              "\n",
              "    .colab-df-convert {\n",
              "      background-color: #E8F0FE;\n",
              "      border: none;\n",
              "      border-radius: 50%;\n",
              "      cursor: pointer;\n",
              "      display: none;\n",
              "      fill: #1967D2;\n",
              "      height: 32px;\n",
              "      padding: 0 0 0 0;\n",
              "      width: 32px;\n",
              "    }\n",
              "\n",
              "    .colab-df-convert:hover {\n",
              "      background-color: #E2EBFA;\n",
              "      box-shadow: 0px 1px 2px rgba(60, 64, 67, 0.3), 0px 1px 3px 1px rgba(60, 64, 67, 0.15);\n",
              "      fill: #174EA6;\n",
              "    }\n",
              "\n",
              "    [theme=dark] .colab-df-convert {\n",
              "      background-color: #3B4455;\n",
              "      fill: #D2E3FC;\n",
              "    }\n",
              "\n",
              "    [theme=dark] .colab-df-convert:hover {\n",
              "      background-color: #434B5C;\n",
              "      box-shadow: 0px 1px 3px 1px rgba(0, 0, 0, 0.15);\n",
              "      filter: drop-shadow(0px 1px 2px rgba(0, 0, 0, 0.3));\n",
              "      fill: #FFFFFF;\n",
              "    }\n",
              "  </style>\n",
              "\n",
              "      <script>\n",
              "        const buttonEl =\n",
              "          document.querySelector('#df-f04d9a3c-0c93-43f9-8dac-256fbc37e0c0 button.colab-df-convert');\n",
              "        buttonEl.style.display =\n",
              "          google.colab.kernel.accessAllowed ? 'block' : 'none';\n",
              "\n",
              "        async function convertToInteractive(key) {\n",
              "          const element = document.querySelector('#df-f04d9a3c-0c93-43f9-8dac-256fbc37e0c0');\n",
              "          const dataTable =\n",
              "            await google.colab.kernel.invokeFunction('convertToInteractive',\n",
              "                                                     [key], {});\n",
              "          if (!dataTable) return;\n",
              "\n",
              "          const docLinkHtml = 'Like what you see? Visit the ' +\n",
              "            '<a target=\"_blank\" href=https://colab.research.google.com/notebooks/data_table.ipynb>data table notebook</a>'\n",
              "            + ' to learn more about interactive tables.';\n",
              "          element.innerHTML = '';\n",
              "          dataTable['output_type'] = 'display_data';\n",
              "          await google.colab.output.renderOutput(dataTable, element);\n",
              "          const docLink = document.createElement('div');\n",
              "          docLink.innerHTML = docLinkHtml;\n",
              "          element.appendChild(docLink);\n",
              "        }\n",
              "      </script>\n",
              "    </div>\n",
              "  </div>\n",
              "  "
            ]
          },
          "metadata": {},
          "execution_count": 31
        }
      ],
      "source": [
        "import pandas as pd\n",
        "\n",
        "df = pd.read_csv('https://raw.githubusercontent.com/msaricaumbc/DS_data/master/ds602/regression/car-reg-data.csv')\n",
        "df.info()\n",
        "df"
      ]
    },
    {
      "cell_type": "code",
      "execution_count": 32,
      "metadata": {
        "id": "GfWV3NqJd7rs",
        "outputId": "2f68b2b3-5751-4481-cdfd-120cbb886333",
        "colab": {
          "base_uri": "https://localhost:8080/"
        }
      },
      "outputs": [
        {
          "output_type": "stream",
          "name": "stdout",
          "text": [
            "Records in training data: 7,244\n",
            "Records in test data: 1,811\n",
            "\n",
            "Features:\n",
            "make\n",
            "transmission\n",
            "state\n",
            "condition\n",
            "odometer\n",
            "auction_value\n"
          ]
        }
      ],
      "source": [
        "from sklearn.model_selection import train_test_split\n",
        "features = [x for x in df.columns if x != 'selling_price']\n",
        "\n",
        "X = df[features]\n",
        "y = df['selling_price']\n",
        "\n",
        "X_train, X_test, y_train, y_test = train_test_split(X, y, test_size=0.2, random_state=100)\n",
        "\n",
        "print(f'Records in training data: {X_train.shape[0]:,}')\n",
        "print(f'Records in test data: {X_test.shape[0]:,}')\n",
        "print('\\nFeatures:')\n",
        "print(*X_train.columns, sep='\\n')"
      ]
    },
    {
      "cell_type": "markdown",
      "metadata": {
        "id": "jF92RNQ4d7rs"
      },
      "source": [
        "## Question 1: Split the features into two lists, one for the numerical features and another for the categorical features."
      ]
    },
    {
      "cell_type": "code",
      "execution_count": 33,
      "metadata": {
        "id": "KDPS0IQgd7rt",
        "colab": {
          "base_uri": "https://localhost:8080/"
        },
        "outputId": "d07572fe-33cb-4524-aa0a-c92fda873c54"
      },
      "outputs": [
        {
          "output_type": "stream",
          "name": "stdout",
          "text": [
            "Records in training data: 7,244\n",
            "Records in test data: 1,811\n",
            "\n",
            "Numerical Features:\n",
            "auction_value\n",
            "odometer\n",
            "condition\n",
            "\n",
            "Categorical Features:\n",
            "make\n",
            "transmission\n",
            "state\n"
          ]
        }
      ],
      "source": [
        "X_train, X_test, y_train, y_test = train_test_split(df[features], df['selling_price'], test_size=0.2, random_state=100)\n",
        "numerical_features = ['auction_value','odometer','condition']\n",
        "categorical_features = ['make','transmission','state']\n",
        "X_train_num = X_train[numerical_features]\n",
        "X_test_num = X_test[numerical_features]\n",
        "\n",
        "X_train_cat = pd.get_dummies(X_train[categorical_features], drop_first=True)\n",
        "X_test_cat = pd.get_dummies(X_test[categorical_features], drop_first=True)\n",
        "\n",
        "X_train_processed = pd.concat([X_train_num, X_train_cat], axis=1)\n",
        "X_test_processed = pd.concat([X_test_num, X_test_cat], axis=1)\n",
        "\n",
        "print(f'Records in training data: {X_train_processed.shape[0]:,}')\n",
        "print(f'Records in test data: {X_test_processed.shape[0]:,}')\n",
        "print('\\nNumerical Features:')\n",
        "print(*numerical_features, sep='\\n')\n",
        "print('\\nCategorical Features:')\n",
        "print(*categorical_features, sep='\\n')"
      ]
    },
    {
      "cell_type": "markdown",
      "metadata": {
        "id": "j9oNsad1d7rt"
      },
      "source": [
        "## Question 2: Using the numerical variables, create a pipeline that replaces the missing values with the median and then standardizes the values using a standard scaler."
      ]
    },
    {
      "cell_type": "code",
      "execution_count": 34,
      "metadata": {
        "id": "QZgGDKnnd7rt"
      },
      "outputs": [],
      "source": [
        "# insert code here\n",
        "numerical_pipeline = Pipeline([\n",
        "    ('imputer', SimpleImputer(strategy='median')),\n",
        "    ('scaler', StandardScaler())\n",
        "])\n",
        "X_train_num_processed = numerical_pipeline.fit_transform(X_train_num)\n",
        "\n",
        "X_test_num_processed = numerical_pipeline.transform(X_test_num)"
      ]
    },
    {
      "cell_type": "code",
      "source": [
        "X_test_num_processed"
      ],
      "metadata": {
        "colab": {
          "base_uri": "https://localhost:8080/"
        },
        "id": "G0AbVW0XWRsy",
        "outputId": "f6efd9e0-5ae2-421b-b614-3e2c0ba48ed7"
      },
      "execution_count": 35,
      "outputs": [
        {
          "output_type": "execute_result",
          "data": {
            "text/plain": [
              "array([[-0.24129094, -0.55329312,  0.93975301],\n",
              "       [ 0.39949227,  1.48635492, -0.59279332],\n",
              "       [-0.011958  ,  0.14606965, -0.33736893],\n",
              "       ...,\n",
              "       [ 0.19713968, -0.14839527,  0.04576765],\n",
              "       [-0.49085914, -0.28623065, -0.33736893],\n",
              "       [ 0.83792289, -0.99207535,  0.17347984]])"
            ]
          },
          "metadata": {},
          "execution_count": 35
        }
      ]
    },
    {
      "cell_type": "code",
      "source": [
        "X_train_num_processed"
      ],
      "metadata": {
        "colab": {
          "base_uri": "https://localhost:8080/"
        },
        "id": "sh3IYwiSj_-s",
        "outputId": "880784f6-4af5-49e0-fff3-2cd0d5568b25"
      },
      "execution_count": 36,
      "outputs": [
        {
          "output_type": "execute_result",
          "data": {
            "text/plain": [
              "array([[-0.26827129, -0.18762983,  0.81204081],\n",
              "       [ 0.74349168, -0.47935108,  0.68432862],\n",
              "       [-0.74042734,  0.8616887 , -1.23135429],\n",
              "       ...,\n",
              "       [-0.54481983, -0.00260324,  0.55661643],\n",
              "       [-0.84160364,  0.43391546, -0.33736893],\n",
              "       [-0.51783949,  1.36295813,  0.81204081]])"
            ]
          },
          "metadata": {},
          "execution_count": 36
        }
      ]
    },
    {
      "cell_type": "markdown",
      "metadata": {
        "id": "l2IScCuud7rt"
      },
      "source": [
        "## Question 3: Using the categorical variables, create a pipeline that replaces the missing values with the most frequent and then use one-hot encoding to convert the data to numerical arrays.\n",
        "- You should be dropping one category from each variable when using the one-hot encoder.  \n",
        "- To ensure the pipeline doesn't break when it receives new/unexpected categories, you should ignore new categories.\n",
        "- Use a fit transformer on the training dataset to validate all the columns are now numeric and to determine how many columns the transformed data contains."
      ]
    },
    {
      "cell_type": "code",
      "execution_count": 37,
      "metadata": {
        "id": "jRnVikhVd7rt"
      },
      "outputs": [],
      "source": [
        "cat_pipeline = Pipeline([\n",
        "    ('imputer', SimpleImputer(strategy='most_frequent')),\n",
        "    ('encoder', OneHotEncoder(handle_unknown='ignore', drop='first'))\n",
        "])\n",
        "X_train_cat = cat_pipeline.fit_transform(X_train[categorical_features])\n",
        "\n",
        "X_test_cat = cat_pipeline.transform(X_test[categorical_features])"
      ]
    },
    {
      "cell_type": "code",
      "source": [
        "X_train_cat.shape"
      ],
      "metadata": {
        "colab": {
          "base_uri": "https://localhost:8080/"
        },
        "id": "OM7Spz7tfNl9",
        "outputId": "c8fbc1b7-5122-4d05-e3a3-bd9d4a1b6ac3"
      },
      "execution_count": 38,
      "outputs": [
        {
          "output_type": "execute_result",
          "data": {
            "text/plain": [
              "(7244, 41)"
            ]
          },
          "metadata": {},
          "execution_count": 38
        }
      ]
    },
    {
      "cell_type": "code",
      "source": [
        "X_test_cat.shape"
      ],
      "metadata": {
        "colab": {
          "base_uri": "https://localhost:8080/"
        },
        "id": "yhuHqA-MfTAI",
        "outputId": "ed8123b5-c97d-48f6-ee8e-947f7c3b8fa4"
      },
      "execution_count": 39,
      "outputs": [
        {
          "output_type": "execute_result",
          "data": {
            "text/plain": [
              "(1811, 41)"
            ]
          },
          "metadata": {},
          "execution_count": 39
        }
      ]
    },
    {
      "cell_type": "markdown",
      "metadata": {
        "id": "-X0UPzKSd7ru"
      },
      "source": [
        "## Question 4: Combine the numerical and categorical pipelines into one data processing pipeline.\n",
        "- Use a fit transformers and the training dataset to verify the data has no missing values and the correct number of columns."
      ]
    },
    {
      "cell_type": "code",
      "execution_count": 40,
      "metadata": {
        "id": "_HrcoA5hd7ru",
        "colab": {
          "base_uri": "https://localhost:8080/"
        },
        "outputId": "89f2ffe3-fdf1-44fb-a0d1-be1257aec867"
      },
      "outputs": [
        {
          "output_type": "stream",
          "name": "stdout",
          "text": [
            "Training data shape: (7244, 44)\n",
            "Training data missing values: 0\n"
          ]
        }
      ],
      "source": [
        "numerical_features = ['auction_value','odometer','condition']\n",
        "categorical_features = ['make','transmission','state']\n",
        "\n",
        "numerical_pipeline = Pipeline([\n",
        "    ('imputer', SimpleImputer(strategy='median')),\n",
        "    ('scaler', StandardScaler())\n",
        "])\n",
        "\n",
        "cat_pipeline = Pipeline([\n",
        "    ('imputer', SimpleImputer(strategy='most_frequent')),\n",
        "    ('encoder', OneHotEncoder(handle_unknown='ignore', drop='first'))\n",
        "])\n",
        "\n",
        "data_pipeline = ColumnTransformer([\n",
        "    ('num', numerical_pipeline, numerical_features),\n",
        "    ('cat', cat_pipeline, categorical_features)\n",
        "])\n",
        "\n",
        "X_train_processed = data_pipeline.fit_transform(X_train)\n",
        "\n",
        "print(f'Training data shape: {X_train_processed.shape}')\n",
        "print(f'Training data missing values: {pd.DataFrame(X_train_processed).isna().sum().sum()}')"
      ]
    },
    {
      "cell_type": "markdown",
      "metadata": {
        "id": "W71uAYuud7ru"
      },
      "source": [
        "## Question 5: Add a linear regression model to the pipeline.\n",
        "- Report what the $R^2$ is using the `test` data.  "
      ]
    },
    {
      "cell_type": "code",
      "source": [
        "from sklearn.linear_model import LinearRegression\n",
        "\n",
        "pipeline = Pipeline([\n",
        "    ('data_processing', data_pipeline),\n",
        "    ('linear_regression', LinearRegression())\n",
        "])\n",
        "\n",
        "pipeline.fit(X_train, y_train)\n",
        "\n",
        "y_pred = pipeline.predict(X_test)\n",
        "\n",
        "r2_score = pipeline.score(X_test, y_test)\n",
        "\n",
        "print(f'R2 score on the test data: {r2_score:.3f}')"
      ],
      "metadata": {
        "colab": {
          "base_uri": "https://localhost:8080/"
        },
        "id": "2xZsd0wlgplj",
        "outputId": "6588a376-c7bd-4840-8d1e-528eedb434ad"
      },
      "execution_count": 41,
      "outputs": [
        {
          "output_type": "stream",
          "name": "stdout",
          "text": [
            "R2 score on the test data: 0.884\n"
          ]
        }
      ]
    },
    {
      "cell_type": "markdown",
      "metadata": {
        "id": "BdK8kfCxd7ru"
      },
      "source": [
        "## Question 6: Create a plot(s) of the residuals. Do you have any concerns about patterns in the residuals that the model is neglecting to pick-up?\n",
        "- Include a sentence or two on what you observe."
      ]
    },
    {
      "cell_type": "code",
      "execution_count": 42,
      "metadata": {
        "id": "xKBWmRMbd7ru",
        "colab": {
          "base_uri": "https://localhost:8080/",
          "height": 295
        },
        "outputId": "8055f573-b530-4aa0-f2ca-c6d2e84f41c2"
      },
      "outputs": [
        {
          "output_type": "display_data",
          "data": {
            "text/plain": [
              "<Figure size 432x288 with 1 Axes>"
            ],
            "image/png": "[encoded data removed]"
          },
          "metadata": {
            "needs_background": "light"
          }
        }
      ],
      "source": [
        "# insert code here\n",
        "import matplotlib.pyplot as plt\n",
        "y_pred = pipeline.predict(X_test)\n",
        "\n",
        "residuals = y_test - y_pred\n",
        "\n",
        "plt.scatter(y_pred, residuals)\n",
        "plt.xlabel('Predicted Selling Price')\n",
        "plt.ylabel('Residuals')\n",
        "plt.title('Residual Plot')\n",
        "plt.show()"
      ]
    },
    {
      "cell_type": "markdown",
      "source": [
        "The residual plot displays a U-shaped pattern, indicating that the model is perhaps underfitting the data and failing to capture some non-linear correlations between characteristics and selling price. To increase the model's performance, we may need to attempt a more complicated model, including interaction terms or polynomial features, or try various algorithms or regularization approaches."
      ],
      "metadata": {
        "id": "X9PQnTimhDvh"
      }
    },
    {
      "cell_type": "markdown",
      "metadata": {
        "id": "ydVHcc9Fd7ru"
      },
      "source": [
        "## Question 7: Modify the pipeline to use a ridge regression model with an alpha value of 100. How does this change the $R^2$?"
      ]
    },
    {
      "cell_type": "code",
      "execution_count": 43,
      "metadata": {
        "id": "szaqwX9td7ru",
        "colab": {
          "base_uri": "https://localhost:8080/"
        },
        "outputId": "87af6d00-3f7b-49b1-cfde-8b381825a4e9"
      },
      "outputs": [
        {
          "output_type": "stream",
          "name": "stdout",
          "text": [
            "R2 score for Ridge regression model with alpha=100: 0.883\n"
          ]
        }
      ],
      "source": [
        "from sklearn.pipeline import Pipeline\n",
        "from sklearn.compose import ColumnTransformer\n",
        "from sklearn.impute import SimpleImputer\n",
        "from sklearn.preprocessing import StandardScaler, OneHotEncoder\n",
        "from sklearn.linear_model import Ridge\n",
        "from sklearn.metrics import r2_score\n",
        "numeric_features=['auction_value','odometer','condition']\n",
        "categorical_features=['make','transmission','state'] \n",
        "\n",
        "numeric_transformer = Pipeline(steps=[\n",
        "    ('imputer', SimpleImputer(strategy='median')),\n",
        "    ('scaler', StandardScaler())\n",
        "])\n",
        "\n",
        "categorical_transformer = Pipeline(steps=[\n",
        "    ('imputer', SimpleImputer(strategy='most_frequent')),\n",
        "    ('onehot', OneHotEncoder(handle_unknown='ignore', drop='first'))\n",
        "])\n",
        "\n",
        "preprocessor = ColumnTransformer(\n",
        "    transformers=[\n",
        "        ('num', numeric_transformer, numeric_features),\n",
        "        ('cat', categorical_transformer, categorical_features)\n",
        "    ])\n",
        "\n",
        "pipeline = Pipeline(steps=[\n",
        "    ('preprocessor', preprocessor),\n",
        "    ('model', Ridge(alpha=100))\n",
        "])\n",
        "\n",
        "pipeline.fit(X_train, y_train)\n",
        "\n",
        "y_pred = pipeline.predict(X_test)\n",
        "r2 = r2_score(y_test, y_pred)\n",
        "\n",
        "# Print the R2 score\n",
        "print(f'R2 score for Ridge regression model with alpha=100: {r2:.3f}')\n"
      ]
    },
    {
      "cell_type": "code",
      "source": [],
      "metadata": {
        "id": "SGkYAxAyS25b"
      },
      "execution_count": 43,
      "outputs": []
    }
  ],
  "metadata": {
    "kernelspec": {
      "display_name": "Python 3",
      "language": "python",
      "name": "python3"
    },
    "language_info": {
      "codemirror_mode": {
        "name": "ipython",
        "version": 3
      },
      "file_extension": ".py",
      "mimetype": "text/x-python",
      "name": "python",
      "nbconvert_exporter": "python",
      "pygments_lexer": "ipython3",
      "version": "3.8.8"
    },
    "toc": {
      "base_numbering": 1,
      "nav_menu": {},
      "number_sections": true,
      "sideBar": true,
      "skip_h1_title": false,
      "title_cell": "Table of Contents",
      "title_sidebar": "Contents",
      "toc_cell": false,
      "toc_position": {},
      "toc_section_display": true,
      "toc_window_display": false
    },
    "colab": {
      "provenance": []
    }
  },
  "nbformat": 4,
  "nbformat_minor": 0
}