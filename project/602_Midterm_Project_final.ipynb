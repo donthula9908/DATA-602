{
 "cells": [
  {
   "cell_type": "markdown",
   "id": "441aec69",
   "metadata": {},
   "source": [
    "# 602 Midterm Project"
   ]
  },
  {
   "cell_type": "markdown",
   "id": "532ac4bd",
   "metadata": {},
   "source": [
    "- Naveen Donthula\n",
    "- Durga Venkata Phanindra Kumar Mulamreddy"
   ]
  },
  {
   "cell_type": "code",
   "execution_count": 17,
   "id": "167b7b55",
   "metadata": {},
   "outputs": [
    {
     "data": {
      "text/html": [
       "<div>\n",
       "<style scoped>\n",
       "    .dataframe tbody tr th:only-of-type {\n",
       "        vertical-align: middle;\n",
       "    }\n",
       "\n",
       "    .dataframe tbody tr th {\n",
       "        vertical-align: top;\n",
       "    }\n",
       "\n",
       "    .dataframe thead th {\n",
       "        text-align: right;\n",
       "    }\n",
       "</style>\n",
       "<table border=\"1\" class=\"dataframe\">\n",
       "  <thead>\n",
       "    <tr style=\"text-align: right;\">\n",
       "      <th></th>\n",
       "      <th>Unnamed: 0</th>\n",
       "      <th>title</th>\n",
       "      <th>body</th>\n",
       "      <th>signature</th>\n",
       "      <th>submissiontime</th>\n",
       "      <th>category</th>\n",
       "    </tr>\n",
       "  </thead>\n",
       "  <tbody>\n",
       "    <tr>\n",
       "      <th>0</th>\n",
       "      <td>0</td>\n",
       "      <td>Mrs. Laurence Class</td>\n",
       "      <td>Because of the upcoming holiday, we will be re...</td>\n",
       "      <td>Jaslynn Laurence</td>\n",
       "      <td>11/18/15 9:26 AM</td>\n",
       "      <td>ANNOUNCEMENTS</td>\n",
       "    </tr>\n",
       "    <tr>\n",
       "      <th>1</th>\n",
       "      <td>1</td>\n",
       "      <td>Mr. Valle's Winter Break Packets (Cornell/Hamp...</td>\n",
       "      <td>All my Cornell, Hampton, and Princeton student...</td>\n",
       "      <td>Mr. Sam Valle</td>\n",
       "      <td>12/16/15 9:26 PM</td>\n",
       "      <td>ANNOUNCEMENTS</td>\n",
       "    </tr>\n",
       "    <tr>\n",
       "      <th>2</th>\n",
       "      <td>2</td>\n",
       "      <td>Hours of Operation</td>\n",
       "      <td>Parents/Guardians,    We will gladly assist yo...</td>\n",
       "      <td>Ms. Ellis</td>\n",
       "      <td>11/18/15 3:30 PM</td>\n",
       "      <td>ANNOUNCEMENTS</td>\n",
       "    </tr>\n",
       "    <tr>\n",
       "      <th>3</th>\n",
       "      <td>3</td>\n",
       "      <td>Character Education</td>\n",
       "      <td>CMIT South scholars will continue to work on v...</td>\n",
       "      <td>Ch.Ed. Team  Room 163</td>\n",
       "      <td>11/15/15 4:49 PM</td>\n",
       "      <td>ANNOUNCEMENTS</td>\n",
       "    </tr>\n",
       "    <tr>\n",
       "      <th>4</th>\n",
       "      <td>4</td>\n",
       "      <td>CMIT Students Connecting with Students Around ...</td>\n",
       "      <td>A couple of classes have had the opportunity t...</td>\n",
       "      <td>Srta. Dickerson</td>\n",
       "      <td>11/16/15 5:21 AM</td>\n",
       "      <td>ANNOUNCEMENTS</td>\n",
       "    </tr>\n",
       "    <tr>\n",
       "      <th>...</th>\n",
       "      <td>...</td>\n",
       "      <td>...</td>\n",
       "      <td>...</td>\n",
       "      <td>...</td>\n",
       "      <td>...</td>\n",
       "      <td>...</td>\n",
       "    </tr>\n",
       "    <tr>\n",
       "      <th>19602</th>\n",
       "      <td>19602</td>\n",
       "      <td>Ms. Coholic's Science Classes</td>\n",
       "      <td>Hello all!  This week, BioGeoChem students wil...</td>\n",
       "      <td>Suzanne Coholic High School Science Teacher  S...</td>\n",
       "      <td>1/11/23 10:28 AM</td>\n",
       "      <td>ANNOUNCEMENTS</td>\n",
       "    </tr>\n",
       "    <tr>\n",
       "      <th>19603</th>\n",
       "      <td>19603</td>\n",
       "      <td>AP Exams</td>\n",
       "      <td>Clock is ticking and we have four months until...</td>\n",
       "      <td>Nabil Siddiqui</td>\n",
       "      <td>1/13/23 9:43 AM</td>\n",
       "      <td>ANNOUNCEMENTS</td>\n",
       "    </tr>\n",
       "    <tr>\n",
       "      <th>19604</th>\n",
       "      <td>19604</td>\n",
       "      <td>Ever thought of becoming a Software Engineer?</td>\n",
       "      <td>This after school club can benefit all the com...</td>\n",
       "      <td>Nabil Siddiqui</td>\n",
       "      <td>1/13/23 9:49 AM</td>\n",
       "      <td>CLUBS</td>\n",
       "    </tr>\n",
       "    <tr>\n",
       "      <th>19605</th>\n",
       "      <td>19605</td>\n",
       "      <td>Last Call! Women's Lacrosse Interest</td>\n",
       "      <td>Last Call! The Women's Lacrosse Program is hav...</td>\n",
       "      <td>Serey Sok CMIT Women's Lacrosse &amp; Women's Socc...</td>\n",
       "      <td>1/15/23 8:29 PM</td>\n",
       "      <td>CLUBS</td>\n",
       "    </tr>\n",
       "    <tr>\n",
       "      <th>19606</th>\n",
       "      <td>19606</td>\n",
       "      <td>Clarinetists, Flautist, Violinist, Violists, ...</td>\n",
       "      <td>ORCHESTRA/CONCERT CLUB   We are doing a mid ye...</td>\n",
       "      <td>Russell Carter</td>\n",
       "      <td>2/6/23 12:54 PM</td>\n",
       "      <td>CLUBS</td>\n",
       "    </tr>\n",
       "  </tbody>\n",
       "</table>\n",
       "<p>19607 rows × 6 columns</p>\n",
       "</div>"
      ],
      "text/plain": [
       "       Unnamed: 0                                              title  \\\n",
       "0               0                                Mrs. Laurence Class   \n",
       "1               1  Mr. Valle's Winter Break Packets (Cornell/Hamp...   \n",
       "2               2                                 Hours of Operation   \n",
       "3               3                                Character Education   \n",
       "4               4  CMIT Students Connecting with Students Around ...   \n",
       "...           ...                                                ...   \n",
       "19602       19602                      Ms. Coholic's Science Classes   \n",
       "19603       19603                                          AP Exams    \n",
       "19604       19604      Ever thought of becoming a Software Engineer?   \n",
       "19605       19605               Last Call! Women's Lacrosse Interest   \n",
       "19606       19606   Clarinetists, Flautist, Violinist, Violists, ...   \n",
       "\n",
       "                                                    body  \\\n",
       "0      Because of the upcoming holiday, we will be re...   \n",
       "1      All my Cornell, Hampton, and Princeton student...   \n",
       "2      Parents/Guardians,    We will gladly assist yo...   \n",
       "3      CMIT South scholars will continue to work on v...   \n",
       "4      A couple of classes have had the opportunity t...   \n",
       "...                                                  ...   \n",
       "19602  Hello all!  This week, BioGeoChem students wil...   \n",
       "19603  Clock is ticking and we have four months until...   \n",
       "19604  This after school club can benefit all the com...   \n",
       "19605  Last Call! The Women's Lacrosse Program is hav...   \n",
       "19606  ORCHESTRA/CONCERT CLUB   We are doing a mid ye...   \n",
       "\n",
       "                                               signature    submissiontime  \\\n",
       "0                                       Jaslynn Laurence  11/18/15 9:26 AM   \n",
       "1                                          Mr. Sam Valle  12/16/15 9:26 PM   \n",
       "2                                              Ms. Ellis  11/18/15 3:30 PM   \n",
       "3                                  Ch.Ed. Team  Room 163  11/15/15 4:49 PM   \n",
       "4                                        Srta. Dickerson  11/16/15 5:21 AM   \n",
       "...                                                  ...               ...   \n",
       "19602  Suzanne Coholic High School Science Teacher  S...  1/11/23 10:28 AM   \n",
       "19603                                     Nabil Siddiqui   1/13/23 9:43 AM   \n",
       "19604                                     Nabil Siddiqui   1/13/23 9:49 AM   \n",
       "19605  Serey Sok CMIT Women's Lacrosse & Women's Socc...   1/15/23 8:29 PM   \n",
       "19606                                     Russell Carter   2/6/23 12:54 PM   \n",
       "\n",
       "            category  \n",
       "0      ANNOUNCEMENTS  \n",
       "1      ANNOUNCEMENTS  \n",
       "2      ANNOUNCEMENTS  \n",
       "3      ANNOUNCEMENTS  \n",
       "4      ANNOUNCEMENTS  \n",
       "...              ...  \n",
       "19602  ANNOUNCEMENTS  \n",
       "19603  ANNOUNCEMENTS  \n",
       "19604          CLUBS  \n",
       "19605          CLUBS  \n",
       "19606          CLUBS  \n",
       "\n",
       "[19607 rows x 6 columns]"
      ]
     },
     "execution_count": 17,
     "metadata": {},
     "output_type": "execute_result"
    }
   ],
   "source": [
    "import pandas as pd\n",
    "import numpy as np\n",
    "import seaborn as sns\n",
    "import string\n",
    "import matplotlib.pyplot as plt\n",
    "from sklearn.utils import class_weight\n",
    "from sklearn.preprocessing import MaxAbsScaler\n",
    "from sklearn.linear_model import LogisticRegression\n",
    "from sklearn.feature_extraction.text import CountVectorizer\n",
    "from sklearn.metrics import accuracy_score, precision_score, confusion_matrix, classification_report\n",
    "\n",
    "# Load the dataset\n",
    "url = \"https://raw.githubusercontent.com/msaricaumbc/DS_data/master/ds602/dataset_newsletter.csv\"\n",
    "df = pd.read_csv(url)\n",
    "df"
   ]
  },
  {
   "cell_type": "code",
   "execution_count": 18,
   "id": "cf5cc037",
   "metadata": {},
   "outputs": [
    {
     "data": {
      "text/plain": [
       "12"
      ]
     },
     "execution_count": 18,
     "metadata": {},
     "output_type": "execute_result"
    }
   ],
   "source": [
    "df['category'].nunique()"
   ]
  },
  {
   "cell_type": "code",
   "execution_count": 19,
   "id": "7c2cc95e",
   "metadata": {},
   "outputs": [
    {
     "name": "stdout",
     "output_type": "stream",
     "text": [
      "ANNOUNCEMENTS        10240\n",
      "BREAKING NEWS         3649\n",
      "UPCOMING EVENTS       3055\n",
      "PTO                   1507\n",
      "IMPORTANT NEWS         452\n",
      "CLUBS                  363\n",
      "ATHLETICS              170\n",
      "DONATIONS NEEDED        63\n",
      "FIELD TRIPS             53\n",
      "VOLUNTEERS NEEDED       27\n",
      "ACHIEVEMENTS            25\n",
      "STUDENT THOUGHTS         3\n",
      "Name: category, dtype: int64\n"
     ]
    }
   ],
   "source": [
    "Each_Category = df['category'].value_counts()\n",
    "print(Each_Category)"
   ]
  },
  {
   "cell_type": "markdown",
   "id": "c7eb3a3b",
   "metadata": {},
   "source": [
    "This is an Unbalanced DATA SET."
   ]
  },
  {
   "cell_type": "code",
   "execution_count": 20,
   "id": "1d22947c",
   "metadata": {},
   "outputs": [
    {
     "data": {
      "text/plain": [
       "Unnamed: 0          0\n",
       "title              10\n",
       "body                3\n",
       "signature         400\n",
       "submissiontime      0\n",
       "category            0\n",
       "dtype: int64"
      ]
     },
     "execution_count": 20,
     "metadata": {},
     "output_type": "execute_result"
    }
   ],
   "source": [
    "df.isna().sum()"
   ]
  },
  {
   "cell_type": "markdown",
   "id": "ffb6848a",
   "metadata": {},
   "source": [
    "The signature, tiltle and body has null values"
   ]
  },
  {
   "cell_type": "code",
   "execution_count": 21,
   "id": "38b0cbf5",
   "metadata": {},
   "outputs": [
    {
     "name": "stdout",
     "output_type": "stream",
     "text": [
      "       Unnamed: 0                                              title  \\\n",
      "895           895      Earth Day is coming up and we have T Shirts.    \n",
      "896           896      Earth Day is coming up and we have T Shirts.    \n",
      "972           972  Enjoy your time off. We will see you April 5, ...   \n",
      "973           973  Enjoy your time off. We will see you April 5, ...   \n",
      "1330         1330                                       JUST FOR YOU   \n",
      "...           ...                                                ...   \n",
      "19550       19550                                  Parent University   \n",
      "19551       19551                                     Lost and Found   \n",
      "19552       19552                                     Be a Volunteer   \n",
      "19553       19553                                       Join the PTO   \n",
      "19592       19592        Progress Reports are available in SchoolMax   \n",
      "\n",
      "                                                    body  \\\n",
      "895                                                    .   \n",
      "896                                                    .   \n",
      "972                                                    .   \n",
      "973                                                    .   \n",
      "1330                                                   .   \n",
      "...                                                  ...   \n",
      "19550                                                  .   \n",
      "19551                                                  .   \n",
      "19552                                                  .   \n",
      "19553                                                  .   \n",
      "19592  https://docs.google.com/presentation/d/1KnMjRQ...   \n",
      "\n",
      "                             signature    submissiontime         category  \n",
      "895                      Natiqua Riley   3/19/16 1:53 PM  UPCOMING EVENTS  \n",
      "896                      Natiqua Riley   3/19/16 1:53 PM  UPCOMING EVENTS  \n",
      "972                      Natiqua Riley   3/26/16 9:09 PM  UPCOMING EVENTS  \n",
      "973                      Natiqua Riley   3/26/16 9:09 PM  UPCOMING EVENTS  \n",
      "1330                               NaN    5/5/16 3:48 PM    BREAKING NEWS  \n",
      "...                                ...               ...              ...  \n",
      "19550  L. Watkis (Assistant Principal)  12/14/22 6:34 PM              PTO  \n",
      "19551  L. Watkis (Assistant Principal)  12/14/22 6:36 PM    ANNOUNCEMENTS  \n",
      "19552  L. Watkis (Assistant Principal)  12/14/22 6:38 PM    ANNOUNCEMENTS  \n",
      "19553  L. Watkis (Assistant Principal)  12/14/22 6:39 PM    BREAKING NEWS  \n",
      "19592        CMIT Program Coordinator   12/22/22 9:29 AM    ANNOUNCEMENTS  \n",
      "\n",
      "[162 rows x 6 columns]\n"
     ]
    }
   ],
   "source": [
    "df['body'] = df['body'].fillna('')\n",
    "body_count = df['body'].str.split().apply(len)\n",
    "print(df[body_count == 1])"
   ]
  },
  {
   "cell_type": "code",
   "execution_count": 22,
   "id": "b0cb6f62",
   "metadata": {},
   "outputs": [
    {
     "data": {
      "text/html": [
       "<div>\n",
       "<style scoped>\n",
       "    .dataframe tbody tr th:only-of-type {\n",
       "        vertical-align: middle;\n",
       "    }\n",
       "\n",
       "    .dataframe tbody tr th {\n",
       "        vertical-align: top;\n",
       "    }\n",
       "\n",
       "    .dataframe thead th {\n",
       "        text-align: right;\n",
       "    }\n",
       "</style>\n",
       "<table border=\"1\" class=\"dataframe\">\n",
       "  <thead>\n",
       "    <tr style=\"text-align: right;\">\n",
       "      <th></th>\n",
       "      <th>Unnamed: 0</th>\n",
       "      <th>title</th>\n",
       "      <th>body</th>\n",
       "      <th>signature</th>\n",
       "      <th>submissiontime</th>\n",
       "      <th>category</th>\n",
       "    </tr>\n",
       "  </thead>\n",
       "  <tbody>\n",
       "    <tr>\n",
       "      <th>0</th>\n",
       "      <td>0</td>\n",
       "      <td>Mrs. Laurence Class</td>\n",
       "      <td>Because of the upcoming holiday, we will be re...</td>\n",
       "      <td>Jaslynn Laurence</td>\n",
       "      <td>11/18/15 9:26 AM</td>\n",
       "      <td>ANNOUNCEMENTS</td>\n",
       "    </tr>\n",
       "    <tr>\n",
       "      <th>1</th>\n",
       "      <td>1</td>\n",
       "      <td>Mr. Valle's Winter Break Packets (Cornell/Hamp...</td>\n",
       "      <td>All my Cornell, Hampton, and Princeton student...</td>\n",
       "      <td>Mr. Sam Valle</td>\n",
       "      <td>12/16/15 9:26 PM</td>\n",
       "      <td>ANNOUNCEMENTS</td>\n",
       "    </tr>\n",
       "    <tr>\n",
       "      <th>2</th>\n",
       "      <td>2</td>\n",
       "      <td>Hours of Operation</td>\n",
       "      <td>Parents/Guardians,    We will gladly assist yo...</td>\n",
       "      <td>Ms. Ellis</td>\n",
       "      <td>11/18/15 3:30 PM</td>\n",
       "      <td>ANNOUNCEMENTS</td>\n",
       "    </tr>\n",
       "    <tr>\n",
       "      <th>3</th>\n",
       "      <td>3</td>\n",
       "      <td>Character Education</td>\n",
       "      <td>CMIT South scholars will continue to work on v...</td>\n",
       "      <td>Ch.Ed. Team  Room 163</td>\n",
       "      <td>11/15/15 4:49 PM</td>\n",
       "      <td>ANNOUNCEMENTS</td>\n",
       "    </tr>\n",
       "    <tr>\n",
       "      <th>4</th>\n",
       "      <td>4</td>\n",
       "      <td>CMIT Students Connecting with Students Around ...</td>\n",
       "      <td>A couple of classes have had the opportunity t...</td>\n",
       "      <td>Srta. Dickerson</td>\n",
       "      <td>11/16/15 5:21 AM</td>\n",
       "      <td>ANNOUNCEMENTS</td>\n",
       "    </tr>\n",
       "    <tr>\n",
       "      <th>...</th>\n",
       "      <td>...</td>\n",
       "      <td>...</td>\n",
       "      <td>...</td>\n",
       "      <td>...</td>\n",
       "      <td>...</td>\n",
       "      <td>...</td>\n",
       "    </tr>\n",
       "    <tr>\n",
       "      <th>19602</th>\n",
       "      <td>19602</td>\n",
       "      <td>Ms. Coholic's Science Classes</td>\n",
       "      <td>Hello all!  This week, BioGeoChem students wil...</td>\n",
       "      <td>Suzanne Coholic High School Science Teacher  S...</td>\n",
       "      <td>1/11/23 10:28 AM</td>\n",
       "      <td>ANNOUNCEMENTS</td>\n",
       "    </tr>\n",
       "    <tr>\n",
       "      <th>19603</th>\n",
       "      <td>19603</td>\n",
       "      <td>AP Exams</td>\n",
       "      <td>Clock is ticking and we have four months until...</td>\n",
       "      <td>Nabil Siddiqui</td>\n",
       "      <td>1/13/23 9:43 AM</td>\n",
       "      <td>ANNOUNCEMENTS</td>\n",
       "    </tr>\n",
       "    <tr>\n",
       "      <th>19604</th>\n",
       "      <td>19604</td>\n",
       "      <td>Ever thought of becoming a Software Engineer?</td>\n",
       "      <td>This after school club can benefit all the com...</td>\n",
       "      <td>Nabil Siddiqui</td>\n",
       "      <td>1/13/23 9:49 AM</td>\n",
       "      <td>CLUBS</td>\n",
       "    </tr>\n",
       "    <tr>\n",
       "      <th>19605</th>\n",
       "      <td>19605</td>\n",
       "      <td>Last Call! Women's Lacrosse Interest</td>\n",
       "      <td>Last Call! The Women's Lacrosse Program is hav...</td>\n",
       "      <td>Serey Sok CMIT Women's Lacrosse &amp; Women's Socc...</td>\n",
       "      <td>1/15/23 8:29 PM</td>\n",
       "      <td>CLUBS</td>\n",
       "    </tr>\n",
       "    <tr>\n",
       "      <th>19606</th>\n",
       "      <td>19606</td>\n",
       "      <td>Clarinetists, Flautist, Violinist, Violists, ...</td>\n",
       "      <td>ORCHESTRA/CONCERT CLUB   We are doing a mid ye...</td>\n",
       "      <td>Russell Carter</td>\n",
       "      <td>2/6/23 12:54 PM</td>\n",
       "      <td>CLUBS</td>\n",
       "    </tr>\n",
       "  </tbody>\n",
       "</table>\n",
       "<p>19607 rows × 6 columns</p>\n",
       "</div>"
      ],
      "text/plain": [
       "       Unnamed: 0                                              title  \\\n",
       "0               0                                Mrs. Laurence Class   \n",
       "1               1  Mr. Valle's Winter Break Packets (Cornell/Hamp...   \n",
       "2               2                                 Hours of Operation   \n",
       "3               3                                Character Education   \n",
       "4               4  CMIT Students Connecting with Students Around ...   \n",
       "...           ...                                                ...   \n",
       "19602       19602                      Ms. Coholic's Science Classes   \n",
       "19603       19603                                          AP Exams    \n",
       "19604       19604      Ever thought of becoming a Software Engineer?   \n",
       "19605       19605               Last Call! Women's Lacrosse Interest   \n",
       "19606       19606   Clarinetists, Flautist, Violinist, Violists, ...   \n",
       "\n",
       "                                                    body  \\\n",
       "0      Because of the upcoming holiday, we will be re...   \n",
       "1      All my Cornell, Hampton, and Princeton student...   \n",
       "2      Parents/Guardians,    We will gladly assist yo...   \n",
       "3      CMIT South scholars will continue to work on v...   \n",
       "4      A couple of classes have had the opportunity t...   \n",
       "...                                                  ...   \n",
       "19602  Hello all!  This week, BioGeoChem students wil...   \n",
       "19603  Clock is ticking and we have four months until...   \n",
       "19604  This after school club can benefit all the com...   \n",
       "19605  Last Call! The Women's Lacrosse Program is hav...   \n",
       "19606  ORCHESTRA/CONCERT CLUB   We are doing a mid ye...   \n",
       "\n",
       "                                               signature    submissiontime  \\\n",
       "0                                       Jaslynn Laurence  11/18/15 9:26 AM   \n",
       "1                                          Mr. Sam Valle  12/16/15 9:26 PM   \n",
       "2                                              Ms. Ellis  11/18/15 3:30 PM   \n",
       "3                                  Ch.Ed. Team  Room 163  11/15/15 4:49 PM   \n",
       "4                                        Srta. Dickerson  11/16/15 5:21 AM   \n",
       "...                                                  ...               ...   \n",
       "19602  Suzanne Coholic High School Science Teacher  S...  1/11/23 10:28 AM   \n",
       "19603                                     Nabil Siddiqui   1/13/23 9:43 AM   \n",
       "19604                                     Nabil Siddiqui   1/13/23 9:49 AM   \n",
       "19605  Serey Sok CMIT Women's Lacrosse & Women's Socc...   1/15/23 8:29 PM   \n",
       "19606                                     Russell Carter   2/6/23 12:54 PM   \n",
       "\n",
       "            category  \n",
       "0      ANNOUNCEMENTS  \n",
       "1      ANNOUNCEMENTS  \n",
       "2      ANNOUNCEMENTS  \n",
       "3      ANNOUNCEMENTS  \n",
       "4      ANNOUNCEMENTS  \n",
       "...              ...  \n",
       "19602  ANNOUNCEMENTS  \n",
       "19603  ANNOUNCEMENTS  \n",
       "19604          CLUBS  \n",
       "19605          CLUBS  \n",
       "19606          CLUBS  \n",
       "\n",
       "[19607 rows x 6 columns]"
      ]
     },
     "execution_count": 22,
     "metadata": {},
     "output_type": "execute_result"
    }
   ],
   "source": [
    "df"
   ]
  },
  {
   "cell_type": "code",
   "execution_count": 23,
   "id": "a783a674",
   "metadata": {},
   "outputs": [],
   "source": [
    "df['body'] = df['body'].str.lower()\n",
    "df['body'] = df['body'].str.strip()\n",
    "df['title'] = df['title'].str.lower()\n",
    "df['title'] = df['title'].str.strip()\n",
    "df['signature'] = df['signature'].str.lower()\n",
    "df['signature'] = df['signature'].str.strip()"
   ]
  },
  {
   "cell_type": "markdown",
   "id": "9b6bed85",
   "metadata": {},
   "source": [
    "There are almost 162 rows in the body column has only single values, So we need to clean all the insignificant data."
   ]
  },
  {
   "cell_type": "code",
   "execution_count": 24,
   "id": "bfb84da4",
   "metadata": {},
   "outputs": [],
   "source": [
    "df = df[df['body'].apply(lambda x: len(str(x).split()) if isinstance(x, str) else 0) > 1]"
   ]
  },
  {
   "cell_type": "code",
   "execution_count": 25,
   "id": "8b7b7a9e",
   "metadata": {},
   "outputs": [
    {
     "data": {
      "text/html": [
       "<div>\n",
       "<style scoped>\n",
       "    .dataframe tbody tr th:only-of-type {\n",
       "        vertical-align: middle;\n",
       "    }\n",
       "\n",
       "    .dataframe tbody tr th {\n",
       "        vertical-align: top;\n",
       "    }\n",
       "\n",
       "    .dataframe thead th {\n",
       "        text-align: right;\n",
       "    }\n",
       "</style>\n",
       "<table border=\"1\" class=\"dataframe\">\n",
       "  <thead>\n",
       "    <tr style=\"text-align: right;\">\n",
       "      <th></th>\n",
       "      <th>Unnamed: 0</th>\n",
       "      <th>title</th>\n",
       "      <th>body</th>\n",
       "      <th>signature</th>\n",
       "      <th>submissiontime</th>\n",
       "      <th>category</th>\n",
       "    </tr>\n",
       "  </thead>\n",
       "  <tbody>\n",
       "    <tr>\n",
       "      <th>0</th>\n",
       "      <td>0</td>\n",
       "      <td>mrs. laurence class</td>\n",
       "      <td>because of the upcoming holiday, we will be re...</td>\n",
       "      <td>jaslynn laurence</td>\n",
       "      <td>11/18/15 9:26 AM</td>\n",
       "      <td>ANNOUNCEMENTS</td>\n",
       "    </tr>\n",
       "    <tr>\n",
       "      <th>1</th>\n",
       "      <td>1</td>\n",
       "      <td>mr. valle's winter break packets (cornell/hamp...</td>\n",
       "      <td>all my cornell, hampton, and princeton student...</td>\n",
       "      <td>mr. sam valle</td>\n",
       "      <td>12/16/15 9:26 PM</td>\n",
       "      <td>ANNOUNCEMENTS</td>\n",
       "    </tr>\n",
       "    <tr>\n",
       "      <th>2</th>\n",
       "      <td>2</td>\n",
       "      <td>hours of operation</td>\n",
       "      <td>parents/guardians,    we will gladly assist yo...</td>\n",
       "      <td>ms. ellis</td>\n",
       "      <td>11/18/15 3:30 PM</td>\n",
       "      <td>ANNOUNCEMENTS</td>\n",
       "    </tr>\n",
       "    <tr>\n",
       "      <th>3</th>\n",
       "      <td>3</td>\n",
       "      <td>character education</td>\n",
       "      <td>cmit south scholars will continue to work on v...</td>\n",
       "      <td>ch.ed. team  room 163</td>\n",
       "      <td>11/15/15 4:49 PM</td>\n",
       "      <td>ANNOUNCEMENTS</td>\n",
       "    </tr>\n",
       "    <tr>\n",
       "      <th>4</th>\n",
       "      <td>4</td>\n",
       "      <td>cmit students connecting with students around ...</td>\n",
       "      <td>a couple of classes have had the opportunity t...</td>\n",
       "      <td>srta. dickerson</td>\n",
       "      <td>11/16/15 5:21 AM</td>\n",
       "      <td>ANNOUNCEMENTS</td>\n",
       "    </tr>\n",
       "    <tr>\n",
       "      <th>...</th>\n",
       "      <td>...</td>\n",
       "      <td>...</td>\n",
       "      <td>...</td>\n",
       "      <td>...</td>\n",
       "      <td>...</td>\n",
       "      <td>...</td>\n",
       "    </tr>\n",
       "    <tr>\n",
       "      <th>19602</th>\n",
       "      <td>19602</td>\n",
       "      <td>ms. coholic's science classes</td>\n",
       "      <td>hello all!  this week, biogeochem students wil...</td>\n",
       "      <td>suzanne coholic high school science teacher  s...</td>\n",
       "      <td>1/11/23 10:28 AM</td>\n",
       "      <td>ANNOUNCEMENTS</td>\n",
       "    </tr>\n",
       "    <tr>\n",
       "      <th>19603</th>\n",
       "      <td>19603</td>\n",
       "      <td>ap exams</td>\n",
       "      <td>clock is ticking and we have four months until...</td>\n",
       "      <td>nabil siddiqui</td>\n",
       "      <td>1/13/23 9:43 AM</td>\n",
       "      <td>ANNOUNCEMENTS</td>\n",
       "    </tr>\n",
       "    <tr>\n",
       "      <th>19604</th>\n",
       "      <td>19604</td>\n",
       "      <td>ever thought of becoming a software engineer?</td>\n",
       "      <td>this after school club can benefit all the com...</td>\n",
       "      <td>nabil siddiqui</td>\n",
       "      <td>1/13/23 9:49 AM</td>\n",
       "      <td>CLUBS</td>\n",
       "    </tr>\n",
       "    <tr>\n",
       "      <th>19605</th>\n",
       "      <td>19605</td>\n",
       "      <td>last call! women's lacrosse interest</td>\n",
       "      <td>last call! the women's lacrosse program is hav...</td>\n",
       "      <td>serey sok cmit women's lacrosse &amp; women's socc...</td>\n",
       "      <td>1/15/23 8:29 PM</td>\n",
       "      <td>CLUBS</td>\n",
       "    </tr>\n",
       "    <tr>\n",
       "      <th>19606</th>\n",
       "      <td>19606</td>\n",
       "      <td>clarinetists, flautist, violinist, violists, t...</td>\n",
       "      <td>orchestra/concert club   we are doing a mid ye...</td>\n",
       "      <td>russell carter</td>\n",
       "      <td>2/6/23 12:54 PM</td>\n",
       "      <td>CLUBS</td>\n",
       "    </tr>\n",
       "  </tbody>\n",
       "</table>\n",
       "<p>19438 rows × 6 columns</p>\n",
       "</div>"
      ],
      "text/plain": [
       "       Unnamed: 0                                              title  \\\n",
       "0               0                                mrs. laurence class   \n",
       "1               1  mr. valle's winter break packets (cornell/hamp...   \n",
       "2               2                                 hours of operation   \n",
       "3               3                                character education   \n",
       "4               4  cmit students connecting with students around ...   \n",
       "...           ...                                                ...   \n",
       "19602       19602                      ms. coholic's science classes   \n",
       "19603       19603                                           ap exams   \n",
       "19604       19604      ever thought of becoming a software engineer?   \n",
       "19605       19605               last call! women's lacrosse interest   \n",
       "19606       19606  clarinetists, flautist, violinist, violists, t...   \n",
       "\n",
       "                                                    body  \\\n",
       "0      because of the upcoming holiday, we will be re...   \n",
       "1      all my cornell, hampton, and princeton student...   \n",
       "2      parents/guardians,    we will gladly assist yo...   \n",
       "3      cmit south scholars will continue to work on v...   \n",
       "4      a couple of classes have had the opportunity t...   \n",
       "...                                                  ...   \n",
       "19602  hello all!  this week, biogeochem students wil...   \n",
       "19603  clock is ticking and we have four months until...   \n",
       "19604  this after school club can benefit all the com...   \n",
       "19605  last call! the women's lacrosse program is hav...   \n",
       "19606  orchestra/concert club   we are doing a mid ye...   \n",
       "\n",
       "                                               signature    submissiontime  \\\n",
       "0                                       jaslynn laurence  11/18/15 9:26 AM   \n",
       "1                                          mr. sam valle  12/16/15 9:26 PM   \n",
       "2                                              ms. ellis  11/18/15 3:30 PM   \n",
       "3                                  ch.ed. team  room 163  11/15/15 4:49 PM   \n",
       "4                                        srta. dickerson  11/16/15 5:21 AM   \n",
       "...                                                  ...               ...   \n",
       "19602  suzanne coholic high school science teacher  s...  1/11/23 10:28 AM   \n",
       "19603                                     nabil siddiqui   1/13/23 9:43 AM   \n",
       "19604                                     nabil siddiqui   1/13/23 9:49 AM   \n",
       "19605  serey sok cmit women's lacrosse & women's socc...   1/15/23 8:29 PM   \n",
       "19606                                     russell carter   2/6/23 12:54 PM   \n",
       "\n",
       "            category  \n",
       "0      ANNOUNCEMENTS  \n",
       "1      ANNOUNCEMENTS  \n",
       "2      ANNOUNCEMENTS  \n",
       "3      ANNOUNCEMENTS  \n",
       "4      ANNOUNCEMENTS  \n",
       "...              ...  \n",
       "19602  ANNOUNCEMENTS  \n",
       "19603  ANNOUNCEMENTS  \n",
       "19604          CLUBS  \n",
       "19605          CLUBS  \n",
       "19606          CLUBS  \n",
       "\n",
       "[19438 rows x 6 columns]"
      ]
     },
     "execution_count": 25,
     "metadata": {},
     "output_type": "execute_result"
    }
   ],
   "source": [
    "df"
   ]
  },
  {
   "cell_type": "markdown",
   "id": "feddbfd8",
   "metadata": {},
   "source": [
    "# Logistic Regression"
   ]
  },
  {
   "cell_type": "code",
   "execution_count": 26,
   "id": "9084316e",
   "metadata": {},
   "outputs": [
    {
     "data": {
      "text/plain": [
       "'# Logistic regression model with class weights\\nmodel = LogisticRegression(class_weight=class_weights_dict)\\nmodel.fit(X_train, y_train)\\n\\n#Train a logistic regression model\\nmodel = LogisticRegression()\\nmodel.fit(X_train, y_train)'"
      ]
     },
     "execution_count": 26,
     "metadata": {},
     "output_type": "execute_result"
    }
   ],
   "source": [
    "df = df.fillna('')\n",
    "\n",
    "# Split data into Train and test set\n",
    "train_df = df.sample(frac=0.7, random_state=42)\n",
    "test_df = df.drop(train_df.index)\n",
    "\n",
    "\n",
    "# Vectorize the text data using CountVectorizer\n",
    "vectorizer = CountVectorizer()\n",
    "X_train = vectorizer.fit_transform(train_df['body'] +  train_df['signature'] + train_df['title'])\n",
    "X_test = vectorizer.transform(test_df['body'] + test_df['signature']+ test_df['title'])\n",
    "\n",
    "\n",
    "# Target variable\n",
    "y_train = train_df['category']\n",
    "y_test = test_df['category']\n",
    "\n",
    "# Compute class weights based on inverse frequency in training data\n",
    "class_weights = class_weight.compute_class_weight('balanced', classes = np.unique(y_train), y = y_train)\n",
    "class_weights_dict = {cls: w for cls, w in zip(np.unique(y_train), class_weights)}\n",
    "\n",
    "scaler = MaxAbsScaler()\n",
    "X_train_scaled = scaler.fit_transform(X_train)\n",
    "X_test_scaled = scaler.transform(X_test)\n",
    "\n",
    "# Train the logistic regression model on the scaled data\n",
    "model = LogisticRegression(class_weight=class_weights_dict, max_iter=1000)\n",
    "model.fit(X_train_scaled, y_train)\n",
    "\n",
    "\n",
    "'''# Logistic regression model with class weights\n",
    "model = LogisticRegression(class_weight=class_weights_dict)\n",
    "model.fit(X_train, y_train)\n",
    "\n",
    "#Train a logistic regression model\n",
    "model = LogisticRegression()\n",
    "model.fit(X_train, y_train)'''\n"
   ]
  },
  {
   "cell_type": "markdown",
   "id": "224df59b",
   "metadata": {},
   "source": [
    "In logistic regression, the algorithm tries to minimize the error between the predicted and actual values by adjusting the coefficients of the features. However, if the dataset is imbalanced, meaning some classes have significantly fewer samples than others, the model can become biased towards the majority class, resulting in poor predictions for the minority class.\n",
    "\n",
    "By adding weights to the minority classes, we can compensate for the class imbalance and help the algorithm to focus more on predicting the minority class correctly. Essentially, this approach gives more importance to the samples from the minority class during the training process, and thus the model can learn to classify the minority class better."
   ]
  },
  {
   "cell_type": "markdown",
   "id": "484103b2",
   "metadata": {},
   "source": [
    "# Training accuracy"
   ]
  },
  {
   "cell_type": "code",
   "execution_count": 27,
   "id": "ae980721",
   "metadata": {},
   "outputs": [
    {
     "name": "stdout",
     "output_type": "stream",
     "text": [
      "Accuracy: 0.9206290879694276\n",
      "Precision: 0.8571495642839754\n",
      "Classification Report\n",
      "                   precision    recall  f1-score   support\n",
      "\n",
      "     ACHIEVEMENTS       1.00      1.00      1.00        10\n",
      "    ANNOUNCEMENTS       0.99      0.89      0.94      7129\n",
      "        ATHLETICS       0.89      1.00      0.94       119\n",
      "    BREAKING NEWS       0.92      0.94      0.93      2541\n",
      "            CLUBS       0.99      1.00      1.00       252\n",
      " DONATIONS NEEDED       0.93      1.00      0.96        41\n",
      "      FIELD TRIPS       0.68      1.00      0.81        39\n",
      "   IMPORTANT NEWS       0.62      1.00      0.76       277\n",
      "              PTO       0.85      0.98      0.91      1022\n",
      " STUDENT THOUGHTS       0.75      1.00      0.86         3\n",
      "  UPCOMING EVENTS       0.83      0.94      0.88      2155\n",
      "VOLUNTEERS NEEDED       0.83      1.00      0.90        19\n",
      "\n",
      "         accuracy                           0.92     13607\n",
      "        macro avg       0.86      0.98      0.91     13607\n",
      "     weighted avg       0.93      0.92      0.92     13607\n",
      "\n",
      "Confusion Matrix:\n"
     ]
    },
    {
     "data": {
      "image/png": "[encoded data removed]",
      "text/plain": [
       "<Figure size 576x432 with 2 Axes>"
      ]
     },
     "metadata": {
      "needs_background": "light"
     },
     "output_type": "display_data"
    }
   ],
   "source": [
    "y_predicted =  model.predict(X_train_scaled)\n",
    "\n",
    "print(\"Accuracy:\", accuracy_score(y_train, y_predicted))\n",
    "print(\"Precision:\", precision_score(y_train, y_predicted, average='macro'))\n",
    "\n",
    "print(\"Classification Report\")\n",
    "print(classification_report(y_train, y_predicted))\n",
    "print(\"Confusion Matrix:\")\n",
    "confusion_Matrix = confusion_matrix(y_train, y_predicted)\n",
    "\n",
    "plt.figure(figsize=(8, 6))\n",
    "sns.heatmap(confusion_Matrix, annot=True, cmap=\"Blues\")\n",
    "plt.title(\"Confusion Matrix\")\n",
    "plt.xlabel(\"Predicted Class\")\n",
    "plt.ylabel(\"True Class\")\n",
    "plt.show()"
   ]
  },
  {
   "cell_type": "markdown",
   "id": "2c2dd601",
   "metadata": {},
   "source": [
    "# Model Evaluation"
   ]
  },
  {
   "cell_type": "code",
   "execution_count": 12,
   "id": "5ea73bc6",
   "metadata": {},
   "outputs": [
    {
     "name": "stdout",
     "output_type": "stream",
     "text": [
      "Accuracy: 0.7418967587034814\n"
     ]
    }
   ],
   "source": [
    "score = model.score(X_test_scaled, y_test)\n",
    "print(f\"Accuracy: {score}\")"
   ]
  },
  {
   "cell_type": "code",
   "execution_count": 13,
   "id": "d054cd46",
   "metadata": {},
   "outputs": [
    {
     "name": "stdout",
     "output_type": "stream",
     "text": [
      "Accuracy: 0.7418967587034814\n",
      "Classification Report\n",
      "                   precision    recall  f1-score   support\n",
      "\n",
      "     ACHIEVEMENTS       0.25      0.10      0.14        10\n",
      "    ANNOUNCEMENTS       0.86      0.78      0.82      3068\n",
      "        ATHLETICS       0.66      0.76      0.71        51\n",
      "    BREAKING NEWS       0.66      0.68      0.67      1070\n",
      "            CLUBS       0.73      0.71      0.72       111\n",
      " DONATIONS NEEDED       0.73      0.73      0.73        22\n",
      "      FIELD TRIPS       0.35      0.50      0.41        14\n",
      "   IMPORTANT NEWS       0.41      0.57      0.48       138\n",
      "              PTO       0.72      0.81      0.76       452\n",
      " STUDENT THOUGHTS       0.00      0.00      0.00         0\n",
      "  UPCOMING EVENTS       0.59      0.68      0.64       887\n",
      "VOLUNTEERS NEEDED       0.25      0.25      0.25         8\n",
      "\n",
      "         accuracy                           0.74      5831\n",
      "        macro avg       0.52      0.55      0.53      5831\n",
      "     weighted avg       0.75      0.74      0.75      5831\n",
      "\n",
      "Confusion Matrix:\n"
     ]
    },
    {
     "name": "stderr",
     "output_type": "stream",
     "text": [
      "C:\\Users\\navee\\anaconda3\\lib\\site-packages\\sklearn\\metrics\\_classification.py:1318: UndefinedMetricWarning: Recall and F-score are ill-defined and being set to 0.0 in labels with no true samples. Use `zero_division` parameter to control this behavior.\n",
      "  _warn_prf(average, modifier, msg_start, len(result))\n",
      "C:\\Users\\navee\\anaconda3\\lib\\site-packages\\sklearn\\metrics\\_classification.py:1318: UndefinedMetricWarning: Recall and F-score are ill-defined and being set to 0.0 in labels with no true samples. Use `zero_division` parameter to control this behavior.\n",
      "  _warn_prf(average, modifier, msg_start, len(result))\n",
      "C:\\Users\\navee\\anaconda3\\lib\\site-packages\\sklearn\\metrics\\_classification.py:1318: UndefinedMetricWarning: Recall and F-score are ill-defined and being set to 0.0 in labels with no true samples. Use `zero_division` parameter to control this behavior.\n",
      "  _warn_prf(average, modifier, msg_start, len(result))\n"
     ]
    },
    {
     "data": {
      "image/png": "[encoded data removed]",
      "text/plain": [
       "<Figure size 576x432 with 2 Axes>"
      ]
     },
     "metadata": {
      "needs_background": "light"
     },
     "output_type": "display_data"
    }
   ],
   "source": [
    "y_pred = model.predict(X_test_scaled)\n",
    "\n",
    "print(\"Accuracy:\", accuracy_score(y_test, y_pred))\n",
    "print(\"Classification Report\")\n",
    "print(classification_report(y_test, y_pred))\n",
    "print(\"Confusion Matrix:\")\n",
    "confusion_Matrix = confusion_matrix(y_test, y_pred)\n",
    "\n",
    "plt.figure(figsize=(8, 6))\n",
    "sns.heatmap(confusion_Matrix, annot=True, cmap=\"Blues\")\n",
    "plt.title(\"Confusion Matrix\")\n",
    "plt.xlabel(\"Predicted Class\")\n",
    "plt.ylabel(\"True Class\")\n",
    "plt.show()"
   ]
  },
  {
   "cell_type": "markdown",
   "id": "2f1cde55",
   "metadata": {},
   "source": [
    "# Prediction"
   ]
  },
  {
   "cell_type": "code",
   "execution_count": 14,
   "id": "c98eda7f",
   "metadata": {},
   "outputs": [
    {
     "name": "stdout",
     "output_type": "stream",
     "text": [
      "Predicted categories for new data:  ['UPCOMING EVENTS' 'BREAKING NEWS']\n"
     ]
    }
   ],
   "source": [
    "new_data = [\"The company's annual general meeting will be held on May 15th at 10:00 AM.\", \"Ten months after george floyd's death, minneapolis residents are at war over policing\"]\n",
    "new_data_vectorized = vectorizer.transform(new_data)\n",
    "new_data_pred = model.predict(new_data_vectorized)\n",
    "print(\"Predicted categories for new data: \", new_data_pred)"
   ]
  },
  {
   "cell_type": "code",
   "execution_count": null,
   "id": "53eaedfc",
   "metadata": {},
   "outputs": [
    {
     "name": "stderr",
     "output_type": "stream",
     "text": [
      "C:\\Users\\navee\\anaconda3\\lib\\site-packages\\sklearn\\model_selection\\_split.py:676: UserWarning: The least populated class in y has only 3 members, which is less than n_splits=5.\n",
      "  warnings.warn(\n"
     ]
    }
   ],
   "source": [
    "from sklearn.model_selection import GridSearchCV\n",
    "\n",
    "# Define the parameter grid to search\n",
    "param_grid = {'C': [0.001, 0.01, 0.1, 1, 10, 100],\n",
    "              'penalty': ['l1', 'l2']}\n",
    "\n",
    "# Create an instance of the logistic regression model\n",
    "model = LogisticRegression(class_weight=class_weights_dict, solver='saga', max_iter=10000)\n",
    "\n",
    "# Create an instance of the grid search with 5-fold cross-validation\n",
    "grid_search = GridSearchCV(estimator=model, param_grid=param_grid, cv=5, scoring='f1_macro', n_jobs=-1)\n",
    "\n",
    "# Fit the grid search to the training data\n",
    "grid_search.fit(X_train, y_train)\n",
    "\n",
    "# Print the best hyperparameters and the corresponding mean cross-validation score\n",
    "print(\"Best hyperparameters:\", grid_search.best_params_)\n",
    "print(\"Best cross-validation score:\", grid_search.best_score_)\n"
   ]
  },
  {
   "cell_type": "markdown",
   "id": "0724adec",
   "metadata": {},
   "source": [
    "# Random Forest"
   ]
  },
  {
   "cell_type": "code",
   "execution_count": 28,
   "id": "0eb70c77",
   "metadata": {},
   "outputs": [
    {
     "name": "stdout",
     "output_type": "stream",
     "text": [
      "Accuracy: 0.6929012345679012\n",
      "Classification Report:\n",
      "                   precision    recall  f1-score   support\n",
      "\n",
      "     ACHIEVEMENTS       1.00      0.11      0.20         9\n",
      "    ANNOUNCEMENTS       0.66      0.95      0.78      2059\n",
      "        ATHLETICS       0.87      0.43      0.58        30\n",
      "    BREAKING NEWS       0.86      0.32      0.47       712\n",
      "            CLUBS       0.90      0.35      0.50        74\n",
      " DONATIONS NEEDED       1.00      0.60      0.75        15\n",
      "      FIELD TRIPS       0.40      0.29      0.33         7\n",
      "   IMPORTANT NEWS       0.37      0.15      0.21        88\n",
      "              PTO       0.83      0.58      0.68       314\n",
      "  UPCOMING EVENTS       0.76      0.45      0.57       575\n",
      "VOLUNTEERS NEEDED       0.00      0.00      0.00         5\n",
      "\n",
      "         accuracy                           0.69      3888\n",
      "        macro avg       0.70      0.38      0.46      3888\n",
      "     weighted avg       0.73      0.69      0.66      3888\n",
      "\n"
     ]
    }
   ],
   "source": [
    "from sklearn.ensemble import RandomForestClassifier\n",
    "from sklearn.metrics import accuracy_score, classification_report\n",
    "\n",
    "# Split the dataset into training and testing sets\n",
    "train_df = df.sample(frac=0.8, random_state=42)\n",
    "test_df = df.drop(train_df.index)\n",
    "\n",
    "# Vectorize the text data using CountVectorizer\n",
    "vectorizer = CountVectorizer()\n",
    "X_train = vectorizer.fit_transform(train_df['body'] + train_df['signature'] + train_df['title'])\n",
    "X_test = vectorizer.transform(test_df['body'] + test_df['signature'] + test_df['title'])\n",
    "\n",
    "# Define the target variable\n",
    "y_train = train_df['category']\n",
    "y_test = test_df['category']\n",
    "\n",
    "# Train a random forest classifier\n",
    "rfc = RandomForestClassifier(n_estimators=100, random_state=42, class_weight='balanced')\n",
    "rfc.fit(X_train, y_train)\n",
    "\n",
    "# Make predictions on the test set\n",
    "y_pred = rfc.predict(X_test)\n",
    "\n",
    "# Evaluate the model\n",
    "score = accuracy_score(y_test, y_pred)\n",
    "report = classification_report(y_test, y_pred)\n",
    "print(f\"Accuracy: {score}\")\n",
    "print(f\"Classification Report:\\n{report}\")\n"
   ]
  },
  {
   "cell_type": "markdown",
   "id": "67f81769",
   "metadata": {},
   "source": [
    "# SVC"
   ]
  },
  {
   "cell_type": "code",
   "execution_count": 29,
   "id": "b7301e53",
   "metadata": {},
   "outputs": [
    {
     "name": "stdout",
     "output_type": "stream",
     "text": [
      "Accuracy: 0.6190843621399177\n",
      "Predicted categories for new data:  ['UPCOMING EVENTS' 'ANNOUNCEMENTS' 'ANNOUNCEMENTS' 'ANNOUNCEMENTS'\n",
      " 'ANNOUNCEMENTS']\n"
     ]
    }
   ],
   "source": [
    "from sklearn.svm import SVC\n",
    "from sklearn.metrics import accuracy_score\n",
    "from sklearn.feature_extraction.text import CountVectorizer\n",
    "import pandas as pd\n",
    "\n",
    "\n",
    "# Vectorize the text data using CountVectorizer\n",
    "vectorizer = CountVectorizer()\n",
    "X = vectorizer.fit_transform(df['body'] + df['signature']+ df['title'])\n",
    "\n",
    "# Define the target variable\n",
    "y = df['category']\n",
    "\n",
    "# Split the dataset into training and testing sets\n",
    "train_size = int(len(df) * 0.8)\n",
    "X_train, X_test = X[:train_size], X[train_size:]\n",
    "y_train, y_test = y[:train_size], y[train_size:]\n",
    "\n",
    "# Train a SVM model\n",
    "model = SVC(kernel='linear', class_weight='balanced')\n",
    "model.fit(X_train, y_train)\n",
    "\n",
    "# Evaluate the model\n",
    "y_pred = model.predict(X_test)\n",
    "accuracy = accuracy_score(y_test, y_pred)\n",
    "print(f\"Accuracy: {accuracy}\")\n",
    "new_data = [\"Attention all employees: The company picnic will take place on Saturday, June 12th from 12:00pm to 4:00pm at Central Park. Please RSVP by Monday, June 7th so we can have an accurate headcount for food and drinks. We hope to see you there!.\", \"This is a new article about sports.\",\"Politics is the process of making decisions that apply to members of a group. It involves the distribution of power and resources within a society, as well as the exercise of authority and the resolution of conflicts.\",\"Physical activities offer health benefits, create community, and drive economic growth. Despite controversy around issues like doping, they remain an enduring part of human culture, offering a unique way to connect and achieve our potential.\",\"This after school club can benefit all the computer science focused students as they will learn the basics of Python programming language and will get the chance to do hands-on practice on exercises.   Students would be able to work on a project towards the end of the course and will be confident while solving complex object-oriented programs.   Once again, the python club meets Monday, Tuesday, every other Wednesday, and Thursday from 3:00 pm to 5:00 pm.\"]\n",
    "new_data_vectorized = vectorizer.transform(new_data)\n",
    "new_data_pred = model.predict(new_data_vectorized)\n",
    "print(\"Predicted categories for new data: \", new_data_pred)"
   ]
  },
  {
   "cell_type": "markdown",
   "id": "8e2f32c0",
   "metadata": {},
   "source": [
    "# Conclusion"
   ]
  },
  {
   "cell_type": "markdown",
   "id": "ae425bcd",
   "metadata": {},
   "source": [
    "From the results we can conclude that, logistic regression is better that random forest as it takes more time to compute and the difference is not that much."
   ]
  },
  {
   "cell_type": "code",
   "execution_count": null,
   "id": "feadbc98",
   "metadata": {},
   "outputs": [],
   "source": []
  }
 ],
 "metadata": {
  "kernelspec": {
   "display_name": "Python 3 (ipykernel)",
   "language": "python",
   "name": "python3"
  },
  "language_info": {
   "codemirror_mode": {
    "name": "ipython",
    "version": 3
   },
   "file_extension": ".py",
   "mimetype": "text/x-python",
   "name": "python",
   "nbconvert_exporter": "python",
   "pygments_lexer": "ipython3",
   "version": "3.9.12"
  }
 },
 "nbformat": 4,
 "nbformat_minor": 5
}
