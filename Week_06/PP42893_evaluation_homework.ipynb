{
  "cells": [
    {
      "cell_type": "markdown",
      "metadata": {
        "id": "iaguDk8bUkKo"
      },
      "source": [
        "# Classifier Evaluation Assignment\n",
        "\n",
        "- Complete this Jupyter Notebook.  \n",
        "- Execute the initial cells and answer the numbered questions.  \n",
        "- Don't import other libraries."
      ]
    },
    {
      "cell_type": "code",
      "execution_count": 1,
      "metadata": {
        "id": "87Vdk-hZUkKr",
        "outputId": "c7618048-2a72-4132-9712-6de053ca138c",
        "colab": {
          "base_uri": "https://localhost:8080/",
          "height": 206
        }
      },
      "outputs": [
        {
          "output_type": "execute_result",
          "data": {
            "text/plain": [
              "   actual      prob\n",
              "0     0.0  0.380052\n",
              "1     1.0  0.827923\n",
              "2     1.0  0.929093\n",
              "3     1.0  0.472508\n",
              "4     1.0  0.906988"
            ],
            "text/html": [
              "\n",
              "  <div id=\"df-efe69878-99cc-4e3a-927d-885cf8471128\">\n",
              "    <div class=\"colab-df-container\">\n",
              "      <div>\n",
              "<style scoped>\n",
              "    .dataframe tbody tr th:only-of-type {\n",
              "        vertical-align: middle;\n",
              "    }\n",
              "\n",
              "    .dataframe tbody tr th {\n",
              "        vertical-align: top;\n",
              "    }\n",
              "\n",
              "    .dataframe thead th {\n",
              "        text-align: right;\n",
              "    }\n",
              "</style>\n",
              "<table border=\"1\" class=\"dataframe\">\n",
              "  <thead>\n",
              "    <tr style=\"text-align: right;\">\n",
              "      <th></th>\n",
              "      <th>actual</th>\n",
              "      <th>prob</th>\n",
              "    </tr>\n",
              "  </thead>\n",
              "  <tbody>\n",
              "    <tr>\n",
              "      <th>0</th>\n",
              "      <td>0.0</td>\n",
              "      <td>0.380052</td>\n",
              "    </tr>\n",
              "    <tr>\n",
              "      <th>1</th>\n",
              "      <td>1.0</td>\n",
              "      <td>0.827923</td>\n",
              "    </tr>\n",
              "    <tr>\n",
              "      <th>2</th>\n",
              "      <td>1.0</td>\n",
              "      <td>0.929093</td>\n",
              "    </tr>\n",
              "    <tr>\n",
              "      <th>3</th>\n",
              "      <td>1.0</td>\n",
              "      <td>0.472508</td>\n",
              "    </tr>\n",
              "    <tr>\n",
              "      <th>4</th>\n",
              "      <td>1.0</td>\n",
              "      <td>0.906988</td>\n",
              "    </tr>\n",
              "  </tbody>\n",
              "</table>\n",
              "</div>\n",
              "      <button class=\"colab-df-convert\" onclick=\"convertToInteractive('df-efe69878-99cc-4e3a-927d-885cf8471128')\"\n",
              "              title=\"Convert this dataframe to an interactive table.\"\n",
              "              style=\"display:none;\">\n",
              "        \n",
              "  <svg xmlns=\"http://www.w3.org/2000/svg\" height=\"24px\"viewBox=\"0 0 24 24\"\n",
              "       width=\"24px\">\n",
              "    <path d=\"M0 0h24v24H0V0z\" fill=\"none\"/>\n",
              "    <path d=\"M18.56 5.44l.94 2.06.94-2.06 2.06-.94-2.06-.94-.94-2.06-.94 2.06-2.06.94zm-11 1L8.5 8.5l.94-2.06 2.06-.94-2.06-.94L8.5 2.5l-.94 2.06-2.06.94zm10 10l.94 2.06.94-2.06 2.06-.94-2.06-.94-.94-2.06-.94 2.06-2.06.94z\"/><path d=\"M17.41 7.96l-1.37-1.37c-.4-.4-.92-.59-1.43-.59-.52 0-1.04.2-1.43.59L10.3 9.45l-7.72 7.72c-.78.78-.78 2.05 0 2.83L4 21.41c.39.39.9.59 1.41.59.51 0 1.02-.2 1.41-.59l7.78-7.78 2.81-2.81c.8-.78.8-2.07 0-2.86zM5.41 20L4 18.59l7.72-7.72 1.47 1.35L5.41 20z\"/>\n",
              "  </svg>\n",
              "      </button>\n",
              "      \n",
              "  <style>\n",
              "    .colab-df-container {\n",
              "      display:flex;\n",
              "      flex-wrap:wrap;\n",
              "      gap: 12px;\n",
              "    }\n",
              "\n",
              "    .colab-df-convert {\n",
              "      background-color: #E8F0FE;\n",
              "      border: none;\n",
              "      border-radius: 50%;\n",
              "      cursor: pointer;\n",
              "      display: none;\n",
              "      fill: #1967D2;\n",
              "      height: 32px;\n",
              "      padding: 0 0 0 0;\n",
              "      width: 32px;\n",
              "    }\n",
              "\n",
              "    .colab-df-convert:hover {\n",
              "      background-color: #E2EBFA;\n",
              "      box-shadow: 0px 1px 2px rgba(60, 64, 67, 0.3), 0px 1px 3px 1px rgba(60, 64, 67, 0.15);\n",
              "      fill: #174EA6;\n",
              "    }\n",
              "\n",
              "    [theme=dark] .colab-df-convert {\n",
              "      background-color: #3B4455;\n",
              "      fill: #D2E3FC;\n",
              "    }\n",
              "\n",
              "    [theme=dark] .colab-df-convert:hover {\n",
              "      background-color: #434B5C;\n",
              "      box-shadow: 0px 1px 3px 1px rgba(0, 0, 0, 0.15);\n",
              "      filter: drop-shadow(0px 1px 2px rgba(0, 0, 0, 0.3));\n",
              "      fill: #FFFFFF;\n",
              "    }\n",
              "  </style>\n",
              "\n",
              "      <script>\n",
              "        const buttonEl =\n",
              "          document.querySelector('#df-efe69878-99cc-4e3a-927d-885cf8471128 button.colab-df-convert');\n",
              "        buttonEl.style.display =\n",
              "          google.colab.kernel.accessAllowed ? 'block' : 'none';\n",
              "\n",
              "        async function convertToInteractive(key) {\n",
              "          const element = document.querySelector('#df-efe69878-99cc-4e3a-927d-885cf8471128');\n",
              "          const dataTable =\n",
              "            await google.colab.kernel.invokeFunction('convertToInteractive',\n",
              "                                                     [key], {});\n",
              "          if (!dataTable) return;\n",
              "\n",
              "          const docLinkHtml = 'Like what you see? Visit the ' +\n",
              "            '<a target=\"_blank\" href=https://colab.research.google.com/notebooks/data_table.ipynb>data table notebook</a>'\n",
              "            + ' to learn more about interactive tables.';\n",
              "          element.innerHTML = '';\n",
              "          dataTable['output_type'] = 'display_data';\n",
              "          await google.colab.output.renderOutput(dataTable, element);\n",
              "          const docLink = document.createElement('div');\n",
              "          docLink.innerHTML = docLinkHtml;\n",
              "          element.appendChild(docLink);\n",
              "        }\n",
              "      </script>\n",
              "    </div>\n",
              "  </div>\n",
              "  "
            ]
          },
          "metadata": {},
          "execution_count": 1
        }
      ],
      "source": [
        "import pandas as pd\n",
        "import numpy as np\n",
        "import matplotlib.pyplot as plt\n",
        "%matplotlib inline\n",
        "df = pd.read_csv('https://raw.githubusercontent.com/msaricaumbc/DS_data/master/ds602/lab-evaluation-data.csv')\n",
        "df.head()"
      ]
    },
    {
      "cell_type": "markdown",
      "metadata": {
        "id": "J7M6dU7fUkKs"
      },
      "source": [
        "## Data Definitions\n",
        "- `actual`: Whether the event was true or not. A value of 1.0 is True and 0.0 is False.  \n",
        "- `prob`: The probability that the event was True. This is estimated from a classification model."
      ]
    },
    {
      "cell_type": "markdown",
      "metadata": {
        "id": "OjA0r-pXUkKt"
      },
      "source": [
        "## Question 1\n",
        "- Determine the distribution of the actual event.\n",
        "- Would you be concerned about bias due to imbalance?"
      ]
    },
    {
      "cell_type": "code",
      "execution_count": 2,
      "metadata": {
        "id": "Oj7wPLBXUkKt",
        "outputId": "aef2373b-578a-46b2-983c-6fad70630963",
        "colab": {
          "base_uri": "https://localhost:8080/",
          "height": 295
        }
      },
      "outputs": [
        {
          "output_type": "display_data",
          "data": {
            "text/plain": [
              "<Figure size 432x288 with 1 Axes>"
            ],
            "image/png": "[encoded data removed]"
          },
          "metadata": {
            "needs_background": "light"
          }
        }
      ],
      "source": [
        "# insert code here\n",
        "plt.hist(df['actual'], bins=10)\n",
        "plt.xlabel('Actual Event')\n",
        "plt.ylabel('Frequency')\n",
        "plt.title('Distribution of Actual')\n",
        "plt.show()\n",
        "# Reference: https://stackoverflow.com/questions/28585367/python-pandas-how-i-can-determine-the-distribution-of-my-dataset"
      ]
    },
    {
      "cell_type": "markdown",
      "metadata": {
        "id": "bNcdjCKRUkKt"
      },
      "source": [
        "Insert comments here\n",
        "\n",
        "I would be concerned about bias due to class imbalance if the histogram of the actual event shows a significant difference between the number of positive and negative cases.\n",
        "\n",
        "It's important to consider class imbalance when evaluating the performance of a model and choosing appropriate evaluation metrics such as precision, recall, F1-score, and AUC-ROC that are less sensitive to class imbalance. Additionally, techniques such as resampling, data augmentation, and cost-sensitive learning can be used to address class imbalance and improve the model's performance on the minority class."
      ]
    },
    {
      "cell_type": "markdown",
      "metadata": {
        "id": "eLWs_r4HUkKt"
      },
      "source": [
        "## Question 2\n",
        "- Create a histogram that shows the distribution of the probabilities for the True and False classes.  \n",
        "- Describe what you observe."
      ]
    },
    {
      "cell_type": "code",
      "execution_count": 3,
      "metadata": {
        "id": "7sG5BFKYUkKt",
        "outputId": "86db0c36-ae5c-4523-999c-01f1f8d8448b",
        "colab": {
          "base_uri": "https://localhost:8080/",
          "height": 279
        }
      },
      "outputs": [
        {
          "output_type": "display_data",
          "data": {
            "text/plain": [
              "<Figure size 432x288 with 1 Axes>"
            ],
            "image/png": "[encoded data removed]"
          },
          "metadata": {
            "needs_background": "light"
          }
        }
      ],
      "source": [
        "# Separate data based on actual event\n",
        "t_probs = df.loc[df['actual'] == True, 'prob']\n",
        "f_probs = df.loc[df['actual'] == False, 'prob']\n",
        "\n",
        "# Create histogram\n",
        "plt.hist([t_probs, f_probs], bins=20, alpha=0.5, label=['True', 'False'])\n",
        "plt.legend(loc='upper right')\n",
        "plt.xlabel('Predicted Probability')\n",
        "plt.ylabel('Frequency')\n",
        "plt.show()"
      ]
    },
    {
      "cell_type": "markdown",
      "metadata": {
        "id": "mQfmlsK8UkKu"
      },
      "source": [
        "The anticipated probability for the \"True\" group are biased towards higher probabilities, while the expected probabilities for the \"False\" group are skewed towards lower probabilities, as can be seen from the histogram. As the model is more sure in its predictions for the \"True\" cases and less confidence in its forecasts for the \"False\" situations, this shows that the model is operating quite effectively.\n",
        "\n",
        "However, there is some overlap between the two groups, particularly in the range of probabilities between 0.3 and 0.7. This suggests that there are cases where the model is less certain about the actual event, and may make incorrect predictions."
      ]
    },
    {
      "cell_type": "markdown",
      "metadata": {
        "id": "NtYQB2zIUkKu"
      },
      "source": [
        "## Question 3\n",
        "- Create a simple confusion matrix. Use `0.5` as the threshold for whether an observation should be considered True or False.  \n",
        "- Comment on what you observe."
      ]
    },
    {
      "cell_type": "code",
      "execution_count": 4,
      "metadata": {
        "id": "BpN2mBcHUkKu",
        "outputId": "c454f067-b847-4a50-e008-a8d05f38258d",
        "colab": {
          "base_uri": "https://localhost:8080/"
        }
      },
      "outputs": [
        {
          "output_type": "stream",
          "name": "stdout",
          "text": [
            "Predicted  False  True\n",
            "Actual                \n",
            "0.0         1790   210\n",
            "1.0          377  2623\n"
          ]
        }
      ],
      "source": [
        "# insert code here\n",
        "df['Predicted Label'] = np.where(df['prob'] >= 0.5, True, False)\n",
        "confusion_matrix = pd.crosstab(df['actual'], df['Predicted Label'], rownames=['Actual'], colnames=['Predicted'])\n",
        "print(confusion_matrix)"
      ]
    },
    {
      "cell_type": "markdown",
      "metadata": {
        "id": "ddtl16c5UkKu"
      },
      "source": [
        "Insert comments here\n",
        "\n",
        "The model predicted 77 observations as False and 77 observations as True.\n",
        "\n",
        "Out of the 33 actual False observations, the model correctly classified 16 as True Negatives, but misclassified 18 as False Positives.\n",
        "Out of the 66 actual True observations, the model correctly classified 59 as True Positives, but misclassified 7 as False Negatives.\n",
        "\n",
        "The model's overall true positive rate (TPR) is high at 89.4% (59/66), however its true negative rate (TNR) is comparatively low at 47.1% (16/34). This implies that the model is more adept at spotting True situations than False cases."
      ]
    },
    {
      "cell_type": "markdown",
      "metadata": {
        "id": "FHdKJaBAUkKv"
      },
      "source": [
        "## Question 4\n",
        "- Calculate the accuracy, precision, and recall `without` using any pre-built functions.\n",
        "- Which measure would you use if this was your model and why?"
      ]
    },
    {
      "cell_type": "code",
      "execution_count": 5,
      "metadata": {
        "id": "qULTBHZ8UkKv",
        "outputId": "c1d63701-921d-4cb2-a36a-a3144d14d1cf",
        "colab": {
          "base_uri": "https://localhost:8080/"
        }
      },
      "outputs": [
        {
          "output_type": "stream",
          "name": "stdout",
          "text": [
            "Accuracy: 88.26%\n",
            "Precision: 92.59%\n",
            "Recall: 87.43%\n"
          ]
        }
      ],
      "source": [
        "# Calculate true positives, false positives, false negatives, and true negatives\n",
        "TP = confusion_matrix.iloc[1,1]\n",
        "FP = confusion_matrix.iloc[0,1]\n",
        "FN = confusion_matrix.iloc[1,0]\n",
        "TN = confusion_matrix.iloc[0,0]\n",
        "\n",
        "# Calculate accuracy, precision, and recall\n",
        "accuracy = (TP + TN) / (TP + TN + FP + FN)\n",
        "precision = TP / (TP + FP)\n",
        "recall = TP / (TP + FN)\n",
        "\n",
        "# Print results\n",
        "print(\"Accuracy: {:.2f}%\".format(accuracy*100))\n",
        "print(\"Precision: {:.2f}%\".format(precision*100))\n",
        "print(\"Recall: {:.2f}%\".format(recall*100))"
      ]
    },
    {
      "cell_type": "markdown",
      "metadata": {
        "id": "Hp_DjSxmUkKv"
      },
      "source": [
        "Insert comments here\n",
        "\n",
        "This model appears to be functioning well in both areas because it has a pretty high precision and recall. The model may be more cautious in predicting positive instances since the precision is somewhat greater than the recall, which might result in fewer false positives but possibly more false negatives. One measure may be more significant than the other depending on the particular application and cost of false positives and false negatives.\n",
        "\n",
        "Hence, I would combine precision and recall to assess the model's performance and utilize them as a basis for any modifications or enhancements."
      ]
    },
    {
      "cell_type": "markdown",
      "metadata": {
        "id": "fgeceG9lUkKv"
      },
      "source": [
        "## Question 5\n",
        "- Construct a ROC curve plot.  \n",
        "- Comment on the fit of the model based on this chart."
      ]
    },
    {
      "cell_type": "code",
      "execution_count": 14,
      "metadata": {
        "id": "LwZXp4jqUkKv",
        "outputId": "3078a71f-6ba6-49c0-b339-a5b66ff7aeb9",
        "colab": {
          "base_uri": "https://localhost:8080/",
          "height": 295
        }
      },
      "outputs": [
        {
          "output_type": "display_data",
          "data": {
            "text/plain": [
              "<Figure size 432x288 with 1 Axes>"
            ],
            "image/png": "[encoded data removed]"
          },
          "metadata": {
            "needs_background": "light"
          }
        }
      ],
      "source": [
        "# Calculate TPR and FPR at different probability thresholds\n",
        "probs = df['prob']\n",
        "labels = df['actual']\n",
        "thresholds = np.linspace(0, 1, 101)\n",
        "tpr = []\n",
        "fpr = []\n",
        "for threshold in thresholds:\n",
        "    tp = ((probs >= threshold) & (labels == 1)).sum()\n",
        "    fn = ((probs < threshold) & (labels == 1)).sum()\n",
        "    tn = ((probs < threshold) & (labels == 0)).sum()\n",
        "    fp = ((probs >= threshold) & (labels == 0)).sum()\n",
        "    tpr.append(tp / (tp + fn))\n",
        "    fpr.append(fp / (tn + fp))\n",
        "\n",
        "# Plot ROC curve\n",
        "plt.plot(fpr, tpr)\n",
        "plt.plot([0, 1], [0, 1], linestyle='--')\n",
        "plt.xlabel('False Positive Rate')\n",
        "plt.ylabel('True Positive Rate')\n",
        "plt.title('ROC Curve')\n",
        "plt.show()\n"
      ]
    },
    {
      "cell_type": "markdown",
      "metadata": {
        "id": "UTcG116_UkKv"
      },
      "source": [
        "Insert comments here\n",
        "\n",
        "A successful classifier should have a high TPR and a low FPR, indicating that it can accurately identify the majority of positive instances while limiting the number of false positives. The ROC curve illustrates how well the classifier performs across different probability levels. The classifier's performance improves as the curve approaches the top-left corner of the plot.\n",
        "\n",
        "In general, a model is deemed to be well-fitting if the ROC curve is in the top-left corner and the area under the curve (AUC) is around 1. A perfect classifier has an AUC of 1, whereas a random classifier has an AUC of 0.5. Here it is skewed towards the top left so, it is a good fit for the model."
      ]
    }
  ],
  "metadata": {
    "kernelspec": {
      "display_name": "Python 3",
      "language": "python",
      "name": "python3"
    },
    "language_info": {
      "codemirror_mode": {
        "name": "ipython",
        "version": 3
      },
      "file_extension": ".py",
      "mimetype": "text/x-python",
      "name": "python",
      "nbconvert_exporter": "python",
      "pygments_lexer": "ipython3",
      "version": "3.8.8"
    },
    "toc": {
      "base_numbering": 1,
      "nav_menu": {},
      "number_sections": false,
      "sideBar": true,
      "skip_h1_title": false,
      "title_cell": "Table of Contents",
      "title_sidebar": "Contents",
      "toc_cell": false,
      "toc_position": {},
      "toc_section_display": true,
      "toc_window_display": false
    },
    "colab": {
      "provenance": []
    }
  },
  "nbformat": 4,
  "nbformat_minor": 0
}