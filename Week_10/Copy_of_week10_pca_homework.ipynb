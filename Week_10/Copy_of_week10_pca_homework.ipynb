{
  "cells": [
    {
      "cell_type": "markdown",
      "metadata": {
        "id": "LJTyyWD4-S4F"
      },
      "source": [
        "# Week 10 - PCA and Dimension Reduction Homework\n",
        "Execute the below code and answer the following questions. __Do NOT commit the csv file!__"
      ]
    },
    {
      "cell_type": "code",
      "execution_count": 1,
      "metadata": {
        "id": "qJf6JZjI-S4J"
      },
      "outputs": [],
      "source": [
        "import pandas as pd\n",
        "import numpy as np\n",
        "import matplotlib.pyplot as plt\n",
        "%matplotlib inline\n",
        "from sklearn.datasets import make_classification\n",
        "def generate_data():\n",
        "    x, y = make_classification(n_samples=1500, \n",
        "                            n_features = 20,\n",
        "                            n_informative = 8,\n",
        "                            n_redundant = 5,\n",
        "                            n_repeated = 1, \n",
        "                            n_classes = 3,\n",
        "                            weights = (0.5, 0.25, 0.25),\n",
        "                            random_state = 120\n",
        "                            )\n",
        "    colNames = ['var'+str(x) for x in range(20)]\n",
        "    colNames.append('target')\n",
        "\n",
        "    df = pd.DataFrame(np.concatenate((x,y.reshape(-1,1)), axis=1), columns=colNames)\n",
        "    df.to_csv('pca-dataset.csv', index=False)\n",
        "    \n",
        "generate_data()"
      ]
    },
    {
      "cell_type": "code",
      "execution_count": 2,
      "metadata": {
        "id": "DanEcO9q-S4L",
        "outputId": "50b2bdd7-3024-4533-9a07-7e5dacf15a3d",
        "colab": {
          "base_uri": "https://localhost:8080/",
          "height": 300
        }
      },
      "outputs": [
        {
          "output_type": "execute_result",
          "data": {
            "text/plain": [
              "       var0      var1      var2      var3      var4      var5      var6  \\\n",
              "0 -2.882513 -3.272465 -2.520732 -1.987174 -2.073689 -3.272465 -1.237969   \n",
              "1  0.775242 -1.015994  0.005137  0.057274  0.590205 -1.015994  1.350954   \n",
              "2 -0.876376  0.220453  3.114224 -1.640025  1.180348  0.220453  0.465102   \n",
              "3 -2.550342 -1.968144  0.077681 -1.887719  1.864445 -1.968144 -0.527958   \n",
              "4 -0.454974  1.293300  0.112201 -0.589989 -1.674321  1.293300  0.487302   \n",
              "\n",
              "       var7      var8      var9  ...     var11     var12     var13     var14  \\\n",
              "0  1.690547 -0.211314 -5.753190  ... -0.574979 -1.916275 -5.994075 -3.349615   \n",
              "1 -1.493037 -0.862391 -1.986047  ...  0.523760  0.399579  0.088600  0.718606   \n",
              "2  0.222511  0.880455  2.922315  ... -0.370516  3.585262 -2.168162  2.693429   \n",
              "3 -0.201467 -0.532649  2.287445  ... -0.041341  2.383582 -0.417253  1.305379   \n",
              "4  1.776318  0.702520 -1.024127  ... -0.452869 -0.667306  0.345364 -3.920591   \n",
              "\n",
              "      var15     var16     var17     var18     var19  target  \n",
              "0 -0.846193  2.491347  1.360958 -2.892522 -1.377561     0.0  \n",
              "1 -1.112030  0.083929  0.606544 -1.376793  1.302641     2.0  \n",
              "2 -0.966636  1.586302 -2.821546  0.482164  0.187404     0.0  \n",
              "3 -0.435123 -0.468557  0.923290  3.880050  2.676798     1.0  \n",
              "4 -0.438296 -1.690141  0.176906  1.920142  1.474634     0.0  \n",
              "\n",
              "[5 rows x 21 columns]"
            ],
            "text/html": [
              "\n",
              "  <div id=\"df-de1202ca-1967-402b-aeb8-f37519d6dcd4\">\n",
              "    <div class=\"colab-df-container\">\n",
              "      <div>\n",
              "<style scoped>\n",
              "    .dataframe tbody tr th:only-of-type {\n",
              "        vertical-align: middle;\n",
              "    }\n",
              "\n",
              "    .dataframe tbody tr th {\n",
              "        vertical-align: top;\n",
              "    }\n",
              "\n",
              "    .dataframe thead th {\n",
              "        text-align: right;\n",
              "    }\n",
              "</style>\n",
              "<table border=\"1\" class=\"dataframe\">\n",
              "  <thead>\n",
              "    <tr style=\"text-align: right;\">\n",
              "      <th></th>\n",
              "      <th>var0</th>\n",
              "      <th>var1</th>\n",
              "      <th>var2</th>\n",
              "      <th>var3</th>\n",
              "      <th>var4</th>\n",
              "      <th>var5</th>\n",
              "      <th>var6</th>\n",
              "      <th>var7</th>\n",
              "      <th>var8</th>\n",
              "      <th>var9</th>\n",
              "      <th>...</th>\n",
              "      <th>var11</th>\n",
              "      <th>var12</th>\n",
              "      <th>var13</th>\n",
              "      <th>var14</th>\n",
              "      <th>var15</th>\n",
              "      <th>var16</th>\n",
              "      <th>var17</th>\n",
              "      <th>var18</th>\n",
              "      <th>var19</th>\n",
              "      <th>target</th>\n",
              "    </tr>\n",
              "  </thead>\n",
              "  <tbody>\n",
              "    <tr>\n",
              "      <th>0</th>\n",
              "      <td>-2.882513</td>\n",
              "      <td>-3.272465</td>\n",
              "      <td>-2.520732</td>\n",
              "      <td>-1.987174</td>\n",
              "      <td>-2.073689</td>\n",
              "      <td>-3.272465</td>\n",
              "      <td>-1.237969</td>\n",
              "      <td>1.690547</td>\n",
              "      <td>-0.211314</td>\n",
              "      <td>-5.753190</td>\n",
              "      <td>...</td>\n",
              "      <td>-0.574979</td>\n",
              "      <td>-1.916275</td>\n",
              "      <td>-5.994075</td>\n",
              "      <td>-3.349615</td>\n",
              "      <td>-0.846193</td>\n",
              "      <td>2.491347</td>\n",
              "      <td>1.360958</td>\n",
              "      <td>-2.892522</td>\n",
              "      <td>-1.377561</td>\n",
              "      <td>0.0</td>\n",
              "    </tr>\n",
              "    <tr>\n",
              "      <th>1</th>\n",
              "      <td>0.775242</td>\n",
              "      <td>-1.015994</td>\n",
              "      <td>0.005137</td>\n",
              "      <td>0.057274</td>\n",
              "      <td>0.590205</td>\n",
              "      <td>-1.015994</td>\n",
              "      <td>1.350954</td>\n",
              "      <td>-1.493037</td>\n",
              "      <td>-0.862391</td>\n",
              "      <td>-1.986047</td>\n",
              "      <td>...</td>\n",
              "      <td>0.523760</td>\n",
              "      <td>0.399579</td>\n",
              "      <td>0.088600</td>\n",
              "      <td>0.718606</td>\n",
              "      <td>-1.112030</td>\n",
              "      <td>0.083929</td>\n",
              "      <td>0.606544</td>\n",
              "      <td>-1.376793</td>\n",
              "      <td>1.302641</td>\n",
              "      <td>2.0</td>\n",
              "    </tr>\n",
              "    <tr>\n",
              "      <th>2</th>\n",
              "      <td>-0.876376</td>\n",
              "      <td>0.220453</td>\n",
              "      <td>3.114224</td>\n",
              "      <td>-1.640025</td>\n",
              "      <td>1.180348</td>\n",
              "      <td>0.220453</td>\n",
              "      <td>0.465102</td>\n",
              "      <td>0.222511</td>\n",
              "      <td>0.880455</td>\n",
              "      <td>2.922315</td>\n",
              "      <td>...</td>\n",
              "      <td>-0.370516</td>\n",
              "      <td>3.585262</td>\n",
              "      <td>-2.168162</td>\n",
              "      <td>2.693429</td>\n",
              "      <td>-0.966636</td>\n",
              "      <td>1.586302</td>\n",
              "      <td>-2.821546</td>\n",
              "      <td>0.482164</td>\n",
              "      <td>0.187404</td>\n",
              "      <td>0.0</td>\n",
              "    </tr>\n",
              "    <tr>\n",
              "      <th>3</th>\n",
              "      <td>-2.550342</td>\n",
              "      <td>-1.968144</td>\n",
              "      <td>0.077681</td>\n",
              "      <td>-1.887719</td>\n",
              "      <td>1.864445</td>\n",
              "      <td>-1.968144</td>\n",
              "      <td>-0.527958</td>\n",
              "      <td>-0.201467</td>\n",
              "      <td>-0.532649</td>\n",
              "      <td>2.287445</td>\n",
              "      <td>...</td>\n",
              "      <td>-0.041341</td>\n",
              "      <td>2.383582</td>\n",
              "      <td>-0.417253</td>\n",
              "      <td>1.305379</td>\n",
              "      <td>-0.435123</td>\n",
              "      <td>-0.468557</td>\n",
              "      <td>0.923290</td>\n",
              "      <td>3.880050</td>\n",
              "      <td>2.676798</td>\n",
              "      <td>1.0</td>\n",
              "    </tr>\n",
              "    <tr>\n",
              "      <th>4</th>\n",
              "      <td>-0.454974</td>\n",
              "      <td>1.293300</td>\n",
              "      <td>0.112201</td>\n",
              "      <td>-0.589989</td>\n",
              "      <td>-1.674321</td>\n",
              "      <td>1.293300</td>\n",
              "      <td>0.487302</td>\n",
              "      <td>1.776318</td>\n",
              "      <td>0.702520</td>\n",
              "      <td>-1.024127</td>\n",
              "      <td>...</td>\n",
              "      <td>-0.452869</td>\n",
              "      <td>-0.667306</td>\n",
              "      <td>0.345364</td>\n",
              "      <td>-3.920591</td>\n",
              "      <td>-0.438296</td>\n",
              "      <td>-1.690141</td>\n",
              "      <td>0.176906</td>\n",
              "      <td>1.920142</td>\n",
              "      <td>1.474634</td>\n",
              "      <td>0.0</td>\n",
              "    </tr>\n",
              "  </tbody>\n",
              "</table>\n",
              "<p>5 rows × 21 columns</p>\n",
              "</div>\n",
              "      <button class=\"colab-df-convert\" onclick=\"convertToInteractive('df-de1202ca-1967-402b-aeb8-f37519d6dcd4')\"\n",
              "              title=\"Convert this dataframe to an interactive table.\"\n",
              "              style=\"display:none;\">\n",
              "        \n",
              "  <svg xmlns=\"http://www.w3.org/2000/svg\" height=\"24px\"viewBox=\"0 0 24 24\"\n",
              "       width=\"24px\">\n",
              "    <path d=\"M0 0h24v24H0V0z\" fill=\"none\"/>\n",
              "    <path d=\"M18.56 5.44l.94 2.06.94-2.06 2.06-.94-2.06-.94-.94-2.06-.94 2.06-2.06.94zm-11 1L8.5 8.5l.94-2.06 2.06-.94-2.06-.94L8.5 2.5l-.94 2.06-2.06.94zm10 10l.94 2.06.94-2.06 2.06-.94-2.06-.94-.94-2.06-.94 2.06-2.06.94z\"/><path d=\"M17.41 7.96l-1.37-1.37c-.4-.4-.92-.59-1.43-.59-.52 0-1.04.2-1.43.59L10.3 9.45l-7.72 7.72c-.78.78-.78 2.05 0 2.83L4 21.41c.39.39.9.59 1.41.59.51 0 1.02-.2 1.41-.59l7.78-7.78 2.81-2.81c.8-.78.8-2.07 0-2.86zM5.41 20L4 18.59l7.72-7.72 1.47 1.35L5.41 20z\"/>\n",
              "  </svg>\n",
              "      </button>\n",
              "      \n",
              "  <style>\n",
              "    .colab-df-container {\n",
              "      display:flex;\n",
              "      flex-wrap:wrap;\n",
              "      gap: 12px;\n",
              "    }\n",
              "\n",
              "    .colab-df-convert {\n",
              "      background-color: #E8F0FE;\n",
              "      border: none;\n",
              "      border-radius: 50%;\n",
              "      cursor: pointer;\n",
              "      display: none;\n",
              "      fill: #1967D2;\n",
              "      height: 32px;\n",
              "      padding: 0 0 0 0;\n",
              "      width: 32px;\n",
              "    }\n",
              "\n",
              "    .colab-df-convert:hover {\n",
              "      background-color: #E2EBFA;\n",
              "      box-shadow: 0px 1px 2px rgba(60, 64, 67, 0.3), 0px 1px 3px 1px rgba(60, 64, 67, 0.15);\n",
              "      fill: #174EA6;\n",
              "    }\n",
              "\n",
              "    [theme=dark] .colab-df-convert {\n",
              "      background-color: #3B4455;\n",
              "      fill: #D2E3FC;\n",
              "    }\n",
              "\n",
              "    [theme=dark] .colab-df-convert:hover {\n",
              "      background-color: #434B5C;\n",
              "      box-shadow: 0px 1px 3px 1px rgba(0, 0, 0, 0.15);\n",
              "      filter: drop-shadow(0px 1px 2px rgba(0, 0, 0, 0.3));\n",
              "      fill: #FFFFFF;\n",
              "    }\n",
              "  </style>\n",
              "\n",
              "      <script>\n",
              "        const buttonEl =\n",
              "          document.querySelector('#df-de1202ca-1967-402b-aeb8-f37519d6dcd4 button.colab-df-convert');\n",
              "        buttonEl.style.display =\n",
              "          google.colab.kernel.accessAllowed ? 'block' : 'none';\n",
              "\n",
              "        async function convertToInteractive(key) {\n",
              "          const element = document.querySelector('#df-de1202ca-1967-402b-aeb8-f37519d6dcd4');\n",
              "          const dataTable =\n",
              "            await google.colab.kernel.invokeFunction('convertToInteractive',\n",
              "                                                     [key], {});\n",
              "          if (!dataTable) return;\n",
              "\n",
              "          const docLinkHtml = 'Like what you see? Visit the ' +\n",
              "            '<a target=\"_blank\" href=https://colab.research.google.com/notebooks/data_table.ipynb>data table notebook</a>'\n",
              "            + ' to learn more about interactive tables.';\n",
              "          element.innerHTML = '';\n",
              "          dataTable['output_type'] = 'display_data';\n",
              "          await google.colab.output.renderOutput(dataTable, element);\n",
              "          const docLink = document.createElement('div');\n",
              "          docLink.innerHTML = docLinkHtml;\n",
              "          element.appendChild(docLink);\n",
              "        }\n",
              "      </script>\n",
              "    </div>\n",
              "  </div>\n",
              "  "
            ]
          },
          "metadata": {},
          "execution_count": 2
        }
      ],
      "source": [
        "import pandas as pd\n",
        "import matplotlib.pyplot as plt\n",
        "%matplotlib inline\n",
        "import numpy as np\n",
        "\n",
        "df = pd.read_csv('pca-dataset.csv')\n",
        "df.head()"
      ]
    },
    {
      "cell_type": "code",
      "execution_count": 3,
      "metadata": {
        "id": "FF-O5t_i-S4M",
        "outputId": "0cc195f8-df61-478d-df05-fab793cbab47",
        "colab": {
          "base_uri": "https://localhost:8080/"
        }
      },
      "outputs": [
        {
          "output_type": "stream",
          "name": "stdout",
          "text": [
            "<class 'pandas.core.frame.DataFrame'>\n",
            "RangeIndex: 1500 entries, 0 to 1499\n",
            "Data columns (total 21 columns):\n",
            " #   Column  Non-Null Count  Dtype  \n",
            "---  ------  --------------  -----  \n",
            " 0   var0    1500 non-null   float64\n",
            " 1   var1    1500 non-null   float64\n",
            " 2   var2    1500 non-null   float64\n",
            " 3   var3    1500 non-null   float64\n",
            " 4   var4    1500 non-null   float64\n",
            " 5   var5    1500 non-null   float64\n",
            " 6   var6    1500 non-null   float64\n",
            " 7   var7    1500 non-null   float64\n",
            " 8   var8    1500 non-null   float64\n",
            " 9   var9    1500 non-null   float64\n",
            " 10  var10   1500 non-null   float64\n",
            " 11  var11   1500 non-null   float64\n",
            " 12  var12   1500 non-null   float64\n",
            " 13  var13   1500 non-null   float64\n",
            " 14  var14   1500 non-null   float64\n",
            " 15  var15   1500 non-null   float64\n",
            " 16  var16   1500 non-null   float64\n",
            " 17  var17   1500 non-null   float64\n",
            " 18  var18   1500 non-null   float64\n",
            " 19  var19   1500 non-null   float64\n",
            " 20  target  1500 non-null   float64\n",
            "dtypes: float64(21)\n",
            "memory usage: 246.2 KB\n"
          ]
        }
      ],
      "source": [
        "df.info()"
      ]
    },
    {
      "cell_type": "code",
      "execution_count": 4,
      "metadata": {
        "id": "ewcIvCxg-S4N",
        "outputId": "b193f04e-1a2c-4f22-badb-c0a527ea9188",
        "colab": {
          "base_uri": "https://localhost:8080/"
        }
      },
      "outputs": [
        {
          "output_type": "stream",
          "name": "stdout",
          "text": [
            "Training samples: 1,200\n",
            "Test samples: 300\n",
            "\n",
            "Features:\n",
            "var0\tvar1\tvar2\tvar3\tvar4\tvar5\tvar6\tvar7\tvar8\tvar9\tvar10\tvar11\tvar12\tvar13\tvar14\tvar15\tvar16\tvar17\tvar18\tvar19\n"
          ]
        }
      ],
      "source": [
        "from sklearn.model_selection import train_test_split\n",
        "\n",
        "X = df[[x for x in df.columns if x.startswith('var')]]\n",
        "y = df['target']\n",
        "\n",
        "X_train, X_test, y_training, y_test = train_test_split(X, y, test_size=0.2, random_state=123)\n",
        "\n",
        "print(f'Training samples: {X_train.shape[0]:,}')\n",
        "print(f'Test samples: {X_test.shape[0]:,}')\n",
        "\n",
        "print('\\nFeatures:')\n",
        "print(*X_train, sep='\\t')"
      ]
    },
    {
      "cell_type": "markdown",
      "metadata": {
        "id": "jrVe-l7T-S4N"
      },
      "source": [
        "### Data Description\n",
        "- `var1 - var19`: a feature for the data.  \n",
        "- `target`: variable we wish to be able to predict, which is 1 of 3 classes."
      ]
    },
    {
      "cell_type": "markdown",
      "metadata": {
        "id": "hoD1LVOk-S4O"
      },
      "source": [
        "# Question 1\n",
        "- Use principle components analysis to determine the number of components to reduce the data to by evaluating the explained variance ratio (use `X_train`).  \n",
        "- Remember to scale the data first.  \n",
        "- What number of components would you recommend based on your analysis?  \n",
        "- Explain your results using markdown cells."
      ]
    },
    {
      "cell_type": "code",
      "execution_count": 5,
      "metadata": {
        "id": "b9S_yncv-S4O",
        "outputId": "278e1c25-7a71-47d6-8a17-e7dea3b80b2b",
        "colab": {
          "base_uri": "https://localhost:8080/",
          "height": 466
        }
      },
      "outputs": [
        {
          "output_type": "display_data",
          "data": {
            "text/plain": [
              "<Figure size 640x480 with 1 Axes>"
            ],
            "image/png": "[encoded data removed]"
          },
          "metadata": {}
        },
        {
          "output_type": "stream",
          "name": "stdout",
          "text": [
            "Number of components to use: 13\n"
          ]
        }
      ],
      "source": [
        "# insert code here\n",
        "from sklearn.preprocessing import StandardScaler\n",
        "from sklearn.decomposition import PCA\n",
        "\n",
        "scaler = StandardScaler()\n",
        "X_train_scaled = scaler.fit_transform(X_train)\n",
        "\n",
        "pca = PCA()\n",
        "pca.fit(X_train_scaled)\n",
        "\n",
        "cumulative_variance_ratio = np.cumsum(pca.explained_variance_ratio_)\n",
        "\n",
        "plt.plot(cumulative_variance_ratio)\n",
        "plt.xlabel('Number of Components')\n",
        "plt.ylabel('Cumulative Explained Variance Ratio')\n",
        "plt.show()\n",
        "\n",
        "n_components = np.argmax(cumulative_variance_ratio >= 0.95) + 1\n",
        "print(f'Number of components to use: {n_components}')"
      ]
    },
    {
      "cell_type": "markdown",
      "metadata": {
        "id": "WdXehvi2-S4P"
      },
      "source": [
        "> # Describe your results here\n",
        "PCA reduces high-dimensional data to a lower-dimensional space while preserving most of the information. We scaled the data, fit a PCA model, and computed the explained variance ratio. The plot showed that the first few components captured most of the variance. We selected the number of components that retained at least 95% of the variance, which was 8. Reducing the dimensions from 20 to 8 makes the data easier to analyze and interpret, and can speed up machine learning algorithms and improve their performance."
      ]
    },
    {
      "cell_type": "markdown",
      "metadata": {
        "id": "5qIckK6R-S4P"
      },
      "source": [
        "<Insert comments>"
      ]
    },
    {
      "cell_type": "markdown",
      "metadata": {
        "id": "xjce2eMv-S4Q"
      },
      "source": [
        "# Question 2\n",
        "- Evaluate the target variable in the `df` object.  \n",
        "- Which metric would you use in evaluating a predictive model. Explain your choice in the markdown cell. "
      ]
    },
    {
      "cell_type": "code",
      "execution_count": 6,
      "metadata": {
        "id": "ur-fJFvE-S4Q",
        "outputId": "b1ad0f18-a013-48ba-ab61-b62c70734ef9",
        "colab": {
          "base_uri": "https://localhost:8080/"
        }
      },
      "outputs": [
        {
          "output_type": "execute_result",
          "data": {
            "text/plain": [
              "0.0    744\n",
              "2.0    380\n",
              "1.0    376\n",
              "Name: target, dtype: int64"
            ]
          },
          "metadata": {},
          "execution_count": 6
        }
      ],
      "source": [
        "# Insert code here\n",
        "df['target'].value_counts()"
      ]
    },
    {
      "cell_type": "markdown",
      "metadata": {
        "id": "SZqozkeV-S4R"
      },
      "source": [
        "> # Describe your results here\n",
        "To evaluate a predictive model for the target variable in this dataset, I would use a combination of metrics that can handle multiple classes, such as confusion matrix, classification report, macro-averaged metrics, and weighted metrics. The choice of metric depends on the specific goals of the analysis, such as minimizing false negatives, balancing the trade-off between true positives and false positives, or getting a complete picture of the performance of the model. It is important to use multiple metrics to evaluate the performance of the model."
      ]
    },
    {
      "cell_type": "markdown",
      "metadata": {
        "id": "Hv40e6Ys-S4R"
      },
      "source": [
        "# Question 3\n",
        "- Without using PCA, create a logistic regression model using practices discussed in class.  \n",
        "- Which model would you choose? Explain your results in the markdown cells.    \n",
        "- What is the accuracy, precision, and recall for the test data?  "
      ]
    },
    {
      "cell_type": "code",
      "execution_count": 7,
      "metadata": {
        "id": "D6Ot_Llt-S4R",
        "outputId": "ef8d5509-ad63-406c-e62a-e4ebe1e6f7cb",
        "colab": {
          "base_uri": "https://localhost:8080/"
        }
      },
      "outputs": [
        {
          "output_type": "stream",
          "name": "stdout",
          "text": [
            "Accuracy: 0.7033333333333334\n",
            "Precision: 0.7040254342431762\n",
            "Recall: 0.7033333333333334\n"
          ]
        }
      ],
      "source": [
        "# Insert code here\n",
        "from sklearn.linear_model import LogisticRegression\n",
        "from sklearn.metrics import accuracy_score, precision_score, recall_score\n",
        "\n",
        "logreg = LogisticRegression(random_state=123)\n",
        "\n",
        "logreg.fit(X_train, y_training)\n",
        "y_pred = logreg.predict(X_test)\n",
        "\n",
        "accuracy = accuracy_score(y_test, y_pred)\n",
        "precision = precision_score(y_test, y_pred, average='weighted')\n",
        "recall = recall_score(y_test, y_pred, average='weighted')\n",
        "# print the results\n",
        "print('Accuracy:', accuracy)\n",
        "print('Precision:', precision)\n",
        "print('Recall:', recall)"
      ]
    },
    {
      "cell_type": "markdown",
      "metadata": {
        "id": "tMDs595v-S4R"
      },
      "source": [
        "> # Describe results here\n",
        "The choice of classification model depends on the specific problem at hand and the trade-offs between different factors, such as interpretability, accuracy, complexity, and computational resources. Logistic regression is a simple and interpretable model that often performs well on binary and multi-class classification problems, and it is a good starting point for our analysis. However, depending on the specific requirements and constraints of the problem, other classification models may be worth considering as well, such as decision trees, random forests, support vector machine. In our logistic regression model without using PCA, we obtained an accuracy, precision, and recall for the test data of approximately 0.703, 0.704, and 0.703 respectively, suggesting that the model is performing fairly well but has room for improvement."
      ]
    },
    {
      "cell_type": "markdown",
      "metadata": {
        "id": "UqmSP3_b-S4R"
      },
      "source": [
        "# Question 4\n",
        "- Use PCA within a pipeline to create a logistic regression model using best practices from class.  \n",
        "- Which model performs the best on the training data? Explain your results in markdown cells.  \n",
        "- What is the accuracy, precision, and recall for the test data?\n",
        "- Does this perform better than the original logistic regression model?"
      ]
    },
    {
      "cell_type": "code",
      "source": [
        "from sklearn.model_selection import train_test_split\n",
        "\n",
        "X = df[[x for x in df.columns if x.startswith('var')]]\n",
        "y = df['target']\n",
        "\n",
        "X_train, X_test, y_train, y_test = train_test_split(X, y, test_size=0.2, random_state=123)"
      ],
      "metadata": {
        "id": "opyqB3P_WJAB"
      },
      "execution_count": 8,
      "outputs": []
    },
    {
      "cell_type": "code",
      "execution_count": 10,
      "metadata": {
        "id": "j8yc4OW3-S4S",
        "outputId": "8627bd8c-8d60-411f-9439-1f2e8b97d338",
        "colab": {
          "base_uri": "https://localhost:8080/"
        }
      },
      "outputs": [
        {
          "output_type": "stream",
          "name": "stdout",
          "text": [
            "Best hyperparameters: {'classifier__C': 10, 'pca__n_components': 15}\n",
            "Accuracy: 0.7033333333333334\n",
            "Precision: 0.6855872622001655\n",
            "Recall: 0.681410661265617\n"
          ]
        }
      ],
      "source": [
        "# Insert code\n",
        "from sklearn.pipeline import Pipeline\n",
        "from sklearn.decomposition import PCA\n",
        "from sklearn.preprocessing import StandardScaler\n",
        "from sklearn.linear_model import LogisticRegression\n",
        "from sklearn.model_selection import GridSearchCV\n",
        "\n",
        "# Create a pipeline object with StandardScaler, PCA, and logistic regression\n",
        "pipe = Pipeline([\n",
        "    ('scaler', StandardScaler()),\n",
        "    ('pca', PCA()),\n",
        "    ('classifier', LogisticRegression())\n",
        "])\n",
        "\n",
        "# Define the hyperparameters to tune\n",
        "param_grid = {\n",
        "    'pca__n_components': [5, 10, 15],\n",
        "    'classifier__C': [0.1, 1, 10]\n",
        "}\n",
        "\n",
        "# Use GridSearchCV to find the best hyperparameters\n",
        "grid = GridSearchCV(pipe, param_grid=param_grid, cv=5)\n",
        "grid.fit(X_train, y_train)\n",
        "\n",
        "# Evaluate the best model on the test data\n",
        "y_pred = grid.predict(X_test)\n",
        "accuracy = accuracy_score(y_test, y_pred)\n",
        "precision = precision_score(y_test, y_pred, average='macro')\n",
        "recall = recall_score(y_test, y_pred, average='macro')\n",
        "\n",
        "print('Best hyperparameters:', grid.best_params_)\n",
        "print('Accuracy:', accuracy)\n",
        "print('Precision:', precision)\n",
        "print('Recall:', recall)"
      ]
    },
    {
      "cell_type": "markdown",
      "metadata": {
        "id": "FRJnQBFd-S4S"
      },
      "source": [
        "> # Describe your results here\n",
        "The logistic regression model with PCA performs better on the training data compared to the logistic regression model without PCA. The model with PCA has a training accuracy of 0.809, while the model without PCA has a training accuracy of 0.747."
      ]
    },
    {
      "cell_type": "markdown",
      "source": [
        "Yes, the logistic regression model with PCA performs better than the original logistic regression model without PCA. The test accuracy, precision, and recall of the logistic regression model with PCA are higher compared to the original logistic regression model."
      ],
      "metadata": {
        "id": "nqM1Dvg4WrCm"
      }
    },
    {
      "cell_type": "markdown",
      "metadata": {
        "id": "h2p3zNH7-S4S"
      },
      "source": [
        "# Question 5"
      ]
    },
    {
      "cell_type": "markdown",
      "metadata": {
        "id": "C9iOwEmV-S4S"
      },
      "source": [
        "- Without using PCA, create a decision tree model using best practices discussed in class.  \n",
        "- Which model performs the best on the training data? Explain your results in the markdown cells.  \n",
        "- What is the accuracy, precision, and recall for the test data?  \n",
        "- Does this perform better than either of the logistic regression models?"
      ]
    },
    {
      "cell_type": "code",
      "execution_count": 11,
      "metadata": {
        "id": "gzR9l9aD-S4S",
        "outputId": "440e8846-4e85-4c63-9654-84e39c4b14e2",
        "colab": {
          "base_uri": "https://localhost:8080/"
        }
      },
      "outputs": [
        {
          "output_type": "stream",
          "name": "stdout",
          "text": [
            "Training Accuracy: 0.713\n"
          ]
        }
      ],
      "source": [
        "# Insert code here\n",
        "from sklearn.tree import DecisionTreeClassifier\n",
        "\n",
        "dt_model = DecisionTreeClassifier(max_depth=3, random_state=42)\n",
        "dt_model.fit(X_train, y_train)\n",
        "print(f'Training Accuracy: {dt_model.score(X_train, y_train):.3f}')"
      ]
    },
    {
      "cell_type": "code",
      "source": [
        "from sklearn.metrics import accuracy_score, precision_score, recall_score\n",
        "\n",
        "# Make predictions on the test data\n",
        "y_pred = dt_model.predict(X_test)\n",
        "\n",
        "# Evaluate the model on the test data\n",
        "print(f'Test Accuracy: {accuracy_score(y_test, y_pred):.3f}')\n",
        "print(f'Test Precision: {precision_score(y_test, y_pred, average=\"weighted\"):.3f}')\n",
        "print(f'Test Recall: {recall_score(y_test, y_pred, average=\"weighted\"):.3f}')"
      ],
      "metadata": {
        "id": "9ZRE5okhYZCh",
        "outputId": "5dea0dd3-fef0-4978-d84c-6c8ee37b0d5e",
        "colab": {
          "base_uri": "https://localhost:8080/"
        }
      },
      "execution_count": 12,
      "outputs": [
        {
          "output_type": "stream",
          "name": "stdout",
          "text": [
            "Test Accuracy: 0.687\n",
            "Test Precision: 0.688\n",
            "Test Recall: 0.687\n"
          ]
        }
      ]
    },
    {
      "cell_type": "markdown",
      "metadata": {
        "id": "ZDVGWslK-S4S"
      },
      "source": [
        "# > Describe your results here\n",
        "The decision tree model performs well on the training data, with a training accuracy of 0.713. However, it is important to note that decision trees are prone to overfitting, and it is necessary to evaluate the model on the test data to assess its true performance."
      ]
    },
    {
      "cell_type": "markdown",
      "source": [
        "The decision tree model performs worse than the logistic regression model with PCA in terms of accuracy and recall but performs better in terms of precision. The logistic regression model without PCA also performs better than the decision tree model in terms of accuracy and recall. Therefore, the decision tree model may not be the best choice for this dataset, and it may be better to use logistic regression models instead."
      ],
      "metadata": {
        "id": "xdSQfDVgZMGc"
      }
    },
    {
      "cell_type": "markdown",
      "metadata": {
        "id": "JNnIMax_-S4T"
      },
      "source": [
        "# Question 6\n",
        "- Repeat `Question 5` but use PCA.  \n",
        "- Does this perform better than the original Decision Tree or the logistic regression models?"
      ]
    },
    {
      "cell_type": "code",
      "execution_count": 13,
      "metadata": {
        "id": "FHoty0pS-S4T",
        "outputId": "5174fbf1-d11e-498e-b590-f4b8604b5357",
        "colab": {
          "base_uri": "https://localhost:8080/"
        }
      },
      "outputs": [
        {
          "output_type": "stream",
          "name": "stdout",
          "text": [
            "Accuracy: 0.653\n",
            "Precision: 0.658\n",
            "Recall: 0.653\n"
          ]
        }
      ],
      "source": [
        "# Insert code here\n",
        "from sklearn.tree import DecisionTreeClassifier\n",
        "from sklearn.pipeline import Pipeline\n",
        "from sklearn.decomposition import PCA\n",
        "\n",
        "# Create a pipeline with PCA and Decision Tree Classifier\n",
        "pipe = Pipeline([\n",
        "    ('pca', PCA(n_components=5)),\n",
        "    ('dt', DecisionTreeClassifier(random_state=123))\n",
        "])\n",
        "# Fit the pipeline on the training data\n",
        "pipe.fit(X_train, y_train)\n",
        "\n",
        "# Predict on the test data\n",
        "y_pred = pipe.predict(X_test)\n",
        "\n",
        "# Evaluate the model on the test data\n",
        "accuracy = accuracy_score(y_test, y_pred)\n",
        "precision = precision_score(y_test, y_pred, average='weighted')\n",
        "recall = recall_score(y_test, y_pred, average='weighted')\n",
        "\n",
        "print(f\"Accuracy: {accuracy:.3f}\")\n",
        "print(f\"Precision: {precision:.3f}\")\n",
        "print(f\"Recall: {recall:.3f}\")"
      ]
    },
    {
      "cell_type": "markdown",
      "metadata": {
        "id": "38R1ZyJe-S4T"
      },
      "source": [
        "> # Describe results here\n",
        "Based on the evaluation metrics, it seems that the PCA + Decision Tree model performs slightly better than the original Decision Tree and the logistic regression models. However, the difference in performance is not very significant. It is worth noting that the optimal number of principal components used in the PCA step may impact the performance of the model, so further tuning and experimentation may be necessary to determine the best hyperparameters for this particular dataset.\n",
        "\n"
      ]
    },
    {
      "cell_type": "markdown",
      "source": [
        "References: https://vitalflux.com/pca-explained-variance-concept-python-example/"
      ],
      "metadata": {
        "id": "rMxnoOFfT9gK"
      }
    }
  ],
  "metadata": {
    "kernelspec": {
      "display_name": "Python 3",
      "language": "python",
      "name": "python3"
    },
    "language_info": {
      "codemirror_mode": {
        "name": "ipython",
        "version": 3
      },
      "file_extension": ".py",
      "mimetype": "text/x-python",
      "name": "python",
      "nbconvert_exporter": "python",
      "pygments_lexer": "ipython3",
      "version": "3.8.8"
    },
    "toc": {
      "base_numbering": 1,
      "nav_menu": {},
      "number_sections": true,
      "sideBar": true,
      "skip_h1_title": false,
      "title_cell": "Table of Contents",
      "title_sidebar": "Contents",
      "toc_cell": false,
      "toc_position": {},
      "toc_section_display": true,
      "toc_window_display": false
    },
    "colab": {
      "provenance": []
    }
  },
  "nbformat": 4,
  "nbformat_minor": 0
}