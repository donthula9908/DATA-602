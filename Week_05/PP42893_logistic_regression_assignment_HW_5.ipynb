{
  "cells": [
    {
      "cell_type": "markdown",
      "metadata": {
        "id": "T8F9MO3pZG-U"
      },
      "source": [
        "# Logistic Regression Assignment\n",
        "\n",
        "- Run the below cells. If you have the data in a different directory, you'll need to change the url.\n",
        "- Complete all of the numbered questions. You may call any packages that we've used in class.  "
      ]
    },
    {
      "cell_type": "code",
      "execution_count": 25,
      "metadata": {
        "id": "29X_YgyvZG-X",
        "outputId": "f2e71ff8-33dd-4495-e776-925fc9a7b0e1",
        "colab": {
          "base_uri": "https://localhost:8080/",
          "height": 357
        }
      },
      "outputs": [
        {
          "output_type": "execute_result",
          "data": {
            "text/plain": [
              "  left_company  age frequency_of_travel              department  \\\n",
              "0           No   37       Travel_Rarely                   Sales   \n",
              "1           No   39       Travel_Rarely  Research & Development   \n",
              "2           No   52   Travel_Frequently  Research & Development   \n",
              "3           No   50          Non-Travel                   Sales   \n",
              "4           No   44       Travel_Rarely  Research & Development   \n",
              "\n",
              "   commuting_distance  education  satisfaction_with_environment  gender  \\\n",
              "0                  16          4                              4    Male   \n",
              "1                   3          2                              3    Male   \n",
              "2                  25          4                              3  Female   \n",
              "3                   1          3                              4  Female   \n",
              "4                   4          3                              4    Male   \n",
              "\n",
              "   seniority_level                   position  satisfaction_with_job  \\\n",
              "0                2            Sales Executive                      3   \n",
              "1                2      Laboratory Technician                      3   \n",
              "2                4     Manufacturing Director                      4   \n",
              "3                2            Sales Executive                      3   \n",
              "4                2  Healthcare Representative                      2   \n",
              "\n",
              "  married_or_single  last_raise_pct  last_performance_rating  \\\n",
              "0          Divorced              19                        3   \n",
              "1          Divorced              15                        3   \n",
              "2           Married              22                        4   \n",
              "3           Married              12                        3   \n",
              "4            Single              12                        3   \n",
              "\n",
              "   total_years_working  years_at_company  years_in_current_job  \\\n",
              "0                    9                 1                     0   \n",
              "1                   11                10                     8   \n",
              "2                   31                 9                     8   \n",
              "3                   19                18                     7   \n",
              "4                   10                 5                     2   \n",
              "\n",
              "   years_since_last_promotion  years_with_current_supervisor  \n",
              "0                           0                              0  \n",
              "1                           0                              7  \n",
              "2                           0                              0  \n",
              "3                           0                             13  \n",
              "4                           2                              3  "
            ],
            "text/html": [
              "\n",
              "  <div id=\"df-8afba5f5-e6ee-4475-b5b1-8f12cb9a06c0\">\n",
              "    <div class=\"colab-df-container\">\n",
              "      <div>\n",
              "<style scoped>\n",
              "    .dataframe tbody tr th:only-of-type {\n",
              "        vertical-align: middle;\n",
              "    }\n",
              "\n",
              "    .dataframe tbody tr th {\n",
              "        vertical-align: top;\n",
              "    }\n",
              "\n",
              "    .dataframe thead th {\n",
              "        text-align: right;\n",
              "    }\n",
              "</style>\n",
              "<table border=\"1\" class=\"dataframe\">\n",
              "  <thead>\n",
              "    <tr style=\"text-align: right;\">\n",
              "      <th></th>\n",
              "      <th>left_company</th>\n",
              "      <th>age</th>\n",
              "      <th>frequency_of_travel</th>\n",
              "      <th>department</th>\n",
              "      <th>commuting_distance</th>\n",
              "      <th>education</th>\n",
              "      <th>satisfaction_with_environment</th>\n",
              "      <th>gender</th>\n",
              "      <th>seniority_level</th>\n",
              "      <th>position</th>\n",
              "      <th>satisfaction_with_job</th>\n",
              "      <th>married_or_single</th>\n",
              "      <th>last_raise_pct</th>\n",
              "      <th>last_performance_rating</th>\n",
              "      <th>total_years_working</th>\n",
              "      <th>years_at_company</th>\n",
              "      <th>years_in_current_job</th>\n",
              "      <th>years_since_last_promotion</th>\n",
              "      <th>years_with_current_supervisor</th>\n",
              "    </tr>\n",
              "  </thead>\n",
              "  <tbody>\n",
              "    <tr>\n",
              "      <th>0</th>\n",
              "      <td>No</td>\n",
              "      <td>37</td>\n",
              "      <td>Travel_Rarely</td>\n",
              "      <td>Sales</td>\n",
              "      <td>16</td>\n",
              "      <td>4</td>\n",
              "      <td>4</td>\n",
              "      <td>Male</td>\n",
              "      <td>2</td>\n",
              "      <td>Sales Executive</td>\n",
              "      <td>3</td>\n",
              "      <td>Divorced</td>\n",
              "      <td>19</td>\n",
              "      <td>3</td>\n",
              "      <td>9</td>\n",
              "      <td>1</td>\n",
              "      <td>0</td>\n",
              "      <td>0</td>\n",
              "      <td>0</td>\n",
              "    </tr>\n",
              "    <tr>\n",
              "      <th>1</th>\n",
              "      <td>No</td>\n",
              "      <td>39</td>\n",
              "      <td>Travel_Rarely</td>\n",
              "      <td>Research &amp; Development</td>\n",
              "      <td>3</td>\n",
              "      <td>2</td>\n",
              "      <td>3</td>\n",
              "      <td>Male</td>\n",
              "      <td>2</td>\n",
              "      <td>Laboratory Technician</td>\n",
              "      <td>3</td>\n",
              "      <td>Divorced</td>\n",
              "      <td>15</td>\n",
              "      <td>3</td>\n",
              "      <td>11</td>\n",
              "      <td>10</td>\n",
              "      <td>8</td>\n",
              "      <td>0</td>\n",
              "      <td>7</td>\n",
              "    </tr>\n",
              "    <tr>\n",
              "      <th>2</th>\n",
              "      <td>No</td>\n",
              "      <td>52</td>\n",
              "      <td>Travel_Frequently</td>\n",
              "      <td>Research &amp; Development</td>\n",
              "      <td>25</td>\n",
              "      <td>4</td>\n",
              "      <td>3</td>\n",
              "      <td>Female</td>\n",
              "      <td>4</td>\n",
              "      <td>Manufacturing Director</td>\n",
              "      <td>4</td>\n",
              "      <td>Married</td>\n",
              "      <td>22</td>\n",
              "      <td>4</td>\n",
              "      <td>31</td>\n",
              "      <td>9</td>\n",
              "      <td>8</td>\n",
              "      <td>0</td>\n",
              "      <td>0</td>\n",
              "    </tr>\n",
              "    <tr>\n",
              "      <th>3</th>\n",
              "      <td>No</td>\n",
              "      <td>50</td>\n",
              "      <td>Non-Travel</td>\n",
              "      <td>Sales</td>\n",
              "      <td>1</td>\n",
              "      <td>3</td>\n",
              "      <td>4</td>\n",
              "      <td>Female</td>\n",
              "      <td>2</td>\n",
              "      <td>Sales Executive</td>\n",
              "      <td>3</td>\n",
              "      <td>Married</td>\n",
              "      <td>12</td>\n",
              "      <td>3</td>\n",
              "      <td>19</td>\n",
              "      <td>18</td>\n",
              "      <td>7</td>\n",
              "      <td>0</td>\n",
              "      <td>13</td>\n",
              "    </tr>\n",
              "    <tr>\n",
              "      <th>4</th>\n",
              "      <td>No</td>\n",
              "      <td>44</td>\n",
              "      <td>Travel_Rarely</td>\n",
              "      <td>Research &amp; Development</td>\n",
              "      <td>4</td>\n",
              "      <td>3</td>\n",
              "      <td>4</td>\n",
              "      <td>Male</td>\n",
              "      <td>2</td>\n",
              "      <td>Healthcare Representative</td>\n",
              "      <td>2</td>\n",
              "      <td>Single</td>\n",
              "      <td>12</td>\n",
              "      <td>3</td>\n",
              "      <td>10</td>\n",
              "      <td>5</td>\n",
              "      <td>2</td>\n",
              "      <td>2</td>\n",
              "      <td>3</td>\n",
              "    </tr>\n",
              "  </tbody>\n",
              "</table>\n",
              "</div>\n",
              "      <button class=\"colab-df-convert\" onclick=\"convertToInteractive('df-8afba5f5-e6ee-4475-b5b1-8f12cb9a06c0')\"\n",
              "              title=\"Convert this dataframe to an interactive table.\"\n",
              "              style=\"display:none;\">\n",
              "        \n",
              "  <svg xmlns=\"http://www.w3.org/2000/svg\" height=\"24px\"viewBox=\"0 0 24 24\"\n",
              "       width=\"24px\">\n",
              "    <path d=\"M0 0h24v24H0V0z\" fill=\"none\"/>\n",
              "    <path d=\"M18.56 5.44l.94 2.06.94-2.06 2.06-.94-2.06-.94-.94-2.06-.94 2.06-2.06.94zm-11 1L8.5 8.5l.94-2.06 2.06-.94-2.06-.94L8.5 2.5l-.94 2.06-2.06.94zm10 10l.94 2.06.94-2.06 2.06-.94-2.06-.94-.94-2.06-.94 2.06-2.06.94z\"/><path d=\"M17.41 7.96l-1.37-1.37c-.4-.4-.92-.59-1.43-.59-.52 0-1.04.2-1.43.59L10.3 9.45l-7.72 7.72c-.78.78-.78 2.05 0 2.83L4 21.41c.39.39.9.59 1.41.59.51 0 1.02-.2 1.41-.59l7.78-7.78 2.81-2.81c.8-.78.8-2.07 0-2.86zM5.41 20L4 18.59l7.72-7.72 1.47 1.35L5.41 20z\"/>\n",
              "  </svg>\n",
              "      </button>\n",
              "      \n",
              "  <style>\n",
              "    .colab-df-container {\n",
              "      display:flex;\n",
              "      flex-wrap:wrap;\n",
              "      gap: 12px;\n",
              "    }\n",
              "\n",
              "    .colab-df-convert {\n",
              "      background-color: #E8F0FE;\n",
              "      border: none;\n",
              "      border-radius: 50%;\n",
              "      cursor: pointer;\n",
              "      display: none;\n",
              "      fill: #1967D2;\n",
              "      height: 32px;\n",
              "      padding: 0 0 0 0;\n",
              "      width: 32px;\n",
              "    }\n",
              "\n",
              "    .colab-df-convert:hover {\n",
              "      background-color: #E2EBFA;\n",
              "      box-shadow: 0px 1px 2px rgba(60, 64, 67, 0.3), 0px 1px 3px 1px rgba(60, 64, 67, 0.15);\n",
              "      fill: #174EA6;\n",
              "    }\n",
              "\n",
              "    [theme=dark] .colab-df-convert {\n",
              "      background-color: #3B4455;\n",
              "      fill: #D2E3FC;\n",
              "    }\n",
              "\n",
              "    [theme=dark] .colab-df-convert:hover {\n",
              "      background-color: #434B5C;\n",
              "      box-shadow: 0px 1px 3px 1px rgba(0, 0, 0, 0.15);\n",
              "      filter: drop-shadow(0px 1px 2px rgba(0, 0, 0, 0.3));\n",
              "      fill: #FFFFFF;\n",
              "    }\n",
              "  </style>\n",
              "\n",
              "      <script>\n",
              "        const buttonEl =\n",
              "          document.querySelector('#df-8afba5f5-e6ee-4475-b5b1-8f12cb9a06c0 button.colab-df-convert');\n",
              "        buttonEl.style.display =\n",
              "          google.colab.kernel.accessAllowed ? 'block' : 'none';\n",
              "\n",
              "        async function convertToInteractive(key) {\n",
              "          const element = document.querySelector('#df-8afba5f5-e6ee-4475-b5b1-8f12cb9a06c0');\n",
              "          const dataTable =\n",
              "            await google.colab.kernel.invokeFunction('convertToInteractive',\n",
              "                                                     [key], {});\n",
              "          if (!dataTable) return;\n",
              "\n",
              "          const docLinkHtml = 'Like what you see? Visit the ' +\n",
              "            '<a target=\"_blank\" href=https://colab.research.google.com/notebooks/data_table.ipynb>data table notebook</a>'\n",
              "            + ' to learn more about interactive tables.';\n",
              "          element.innerHTML = '';\n",
              "          dataTable['output_type'] = 'display_data';\n",
              "          await google.colab.output.renderOutput(dataTable, element);\n",
              "          const docLink = document.createElement('div');\n",
              "          docLink.innerHTML = docLinkHtml;\n",
              "          element.appendChild(docLink);\n",
              "        }\n",
              "      </script>\n",
              "    </div>\n",
              "  </div>\n",
              "  "
            ]
          },
          "metadata": {},
          "execution_count": 25
        }
      ],
      "source": [
        "import pandas as pd\n",
        "from sklearn.model_selection import train_test_split\n",
        "from sklearn.pipeline import Pipeline\n",
        "from sklearn.compose import ColumnTransformer\n",
        "from sklearn.impute import SimpleImputer\n",
        "from sklearn.preprocessing import StandardScaler\n",
        "from sklearn.preprocessing import OneHotEncoder\n",
        "from sklearn.linear_model import LogisticRegression\n",
        "import matplotlib.pyplot as plt\n",
        "import seaborn as sns\n",
        "from sklearn.metrics import accuracy_score\n",
        "from sklearn.linear_model import Ridge\n",
        "%matplotlib inline\n",
        "\n",
        "df = pd.read_csv('https://raw.githubusercontent.com/msaricaumbc/DS_data/master/ds602/log_reg/employee-turnover-balanced.csv')\n",
        "df.head()"
      ]
    },
    {
      "cell_type": "markdown",
      "metadata": {
        "id": "GE7mEcIEZG-Y"
      },
      "source": [
        "## Data Definitions\n",
        "- `left_company`: Whether individual left the company or not. This is the target variable.  \n",
        "- `age`: Age of individual. \n",
        "- `frequency_of_travel`: How often person travels for work.  \n",
        "- `department`: Department person works(worked).  \n",
        "- `commuting_distance`: Distance person lives from office.  \n",
        "- `education`: Highest education category.  \n",
        "- `satisfaction_with_environment`: Satisfaction of environment, on lickert scale.  \n",
        "- `gender`: Gender of individual.  \n",
        "- `seniority_level`: Seniority level of individual.  \n",
        "- `position`: Last position held at the company.  \n",
        "- `satisfaction_with_job`: Satisfaction of their job, on lickert scale.  \n",
        "- `married_or_single`: Marital status of person.  \n",
        "- `last_raise_pct`: Percent increase their last raise represented.  \n",
        "- `last_performance_rating`: Most recent annual performance rating, on lickert scale.  \n",
        "- `total_years_working`: Number of years the individual has spent working in their career.  \n",
        "- `years_at_company`: Number of years the individual has been at the company, regardless of position.  \n",
        "- `years_in_current_job`: Number of years the individual has been in their current position.  \n",
        "- `years_since_last_promotion`: Years since the person had their last promotion.  \n",
        "- `years_with_current_supervisor`: Years the person has had their current supervisor."
      ]
    },
    {
      "cell_type": "markdown",
      "metadata": {
        "id": "HSbhHYgQZG-Z"
      },
      "source": [
        "# Question 1\n",
        "- What is the distribution of the target (`left_company`)?  \n",
        "- Do you have any concerns on class imbalances?"
      ]
    },
    {
      "cell_type": "code",
      "execution_count": 26,
      "metadata": {
        "id": "pJKp-pDvZG-Z",
        "outputId": "b59f9351-5d0b-45b7-95d8-54176b9c70ef",
        "colab": {
          "base_uri": "https://localhost:8080/"
        }
      },
      "outputs": [
        {
          "output_type": "stream",
          "name": "stdout",
          "text": [
            "No     500\n",
            "Yes    500\n",
            "Name: left_company, dtype: int64\n"
          ]
        }
      ],
      "source": [
        "# insert code\n",
        "target_dist = df['left_company'].value_counts()\n",
        "print(target_dist)"
      ]
    },
    {
      "cell_type": "markdown",
      "metadata": {
        "id": "XuNVidvIZG-Z"
      },
      "source": [
        "There is no class imbalance in the provided dataset."
      ]
    },
    {
      "cell_type": "markdown",
      "metadata": {
        "id": "kbxJCSrFZG-Z"
      },
      "source": [
        "# Question 2\n",
        "- Create and print a list of the variables that you would treat as numerical and another list for the variables that you would treat as categorical.  \n",
        "- Explain your choices."
      ]
    },
    {
      "cell_type": "code",
      "source": [
        "numerical_vars = ['left_company',\t'frequency_of_travel',\t'department',\t'education',\t'satisfaction_with_environment',\t'gender',\t'position'\t'satisfaction_with_job',\t'married_or_single'\t'last_raise_pct',\t'last_performance_rating',\t'total_years_working'\t'years_at_company',\t'years_in_current_job',\t'years_since_last_promotion',\t'years_with_current_supervisor']\n",
        "\n",
        "categorical_vars = ['commuting_distance', 'age', 'education','satisfaction_with_environment','seniority_level']\n",
        "\n",
        "print(\"Numerical Variables:\\n\", numerical_vars)\n",
        "print(\"\\nCategorical Variables:\\n\", categorical_vars)\n"
      ],
      "metadata": {
        "colab": {
          "base_uri": "https://localhost:8080/"
        },
        "id": "YaVBbgvUUXWi",
        "outputId": "a4bb2fb1-1ccb-4a72-f3e1-41eb5bf0afa5"
      },
      "execution_count": 27,
      "outputs": [
        {
          "output_type": "stream",
          "name": "stdout",
          "text": [
            "Numerical Variables:\n",
            " ['left_company', 'frequency_of_travel', 'department', 'education', 'satisfaction_with_environment', 'gender', 'positionsatisfaction_with_job', 'married_or_singlelast_raise_pct', 'last_performance_rating', 'total_years_workingyears_at_company', 'years_in_current_job', 'years_since_last_promotion', 'years_with_current_supervisor']\n",
            "\n",
            "Categorical Variables:\n",
            " ['commuting_distance', 'age', 'education', 'satisfaction_with_environment', 'seniority_level']\n"
          ]
        }
      ]
    },
    {
      "cell_type": "markdown",
      "metadata": {
        "id": "B2Ib44maZG-a"
      },
      "source": [
        "## Insert comments here\n",
        "\n",
        "I categorized the all the numerical termed columns to the Numerical and all the other categorical columns like gender department are into the categorical columns."
      ]
    },
    {
      "cell_type": "markdown",
      "metadata": {
        "id": "FLYKUDBBZG-a"
      },
      "source": [
        "# Question 3\n",
        "- Determine if any numerical variables risk multicolinearity.  \n",
        "- Remove those variables (if any) from your numerical_vars list.  \n",
        "- Why did you or did not remove any?"
      ]
    },
    {
      "cell_type": "code",
      "source": [
        "numerical_vars = df.select_dtypes(include=['float64', 'int64']).columns.tolist()\n",
        "numerical_df = df[numerical_vars]\n",
        "\n",
        "corr_matrix = numerical_df.corr()\n",
        "\n",
        "import seaborn as sns\n",
        "sns.heatmap(corr_matrix, cmap='coolwarm')\n",
        "\n",
        "correlated_vars = set()\n",
        "for i in range(len(corr_matrix.columns)):\n",
        "    for j in range(i):\n",
        "        if abs(corr_matrix.iloc[i, j]) > 0.7:\n",
        "            col_i = corr_matrix.columns[i]\n",
        "            col_j = corr_matrix.columns[j]\n",
        "            correlated_vars.add(col_i)\n",
        "            correlated_vars.add(col_j)\n",
        "\n",
        "numerical_vars = [col for col in numerical_vars if col not in correlated_vars]\n",
        "numerical_vars"
      ],
      "metadata": {
        "id": "yRVKatiUThce",
        "outputId": "3ab1a171-82bc-449c-c3d2-4d033c8bf6c5",
        "colab": {
          "base_uri": "https://localhost:8080/",
          "height": 516
        }
      },
      "execution_count": 28,
      "outputs": [
        {
          "output_type": "execute_result",
          "data": {
            "text/plain": [
              "['age',\n",
              " 'commuting_distance',\n",
              " 'education',\n",
              " 'satisfaction_with_environment',\n",
              " 'satisfaction_with_job',\n",
              " 'years_since_last_promotion']"
            ]
          },
          "metadata": {},
          "execution_count": 28
        },
        {
          "output_type": "display_data",
          "data": {
            "text/plain": [
              "<Figure size 432x288 with 2 Axes>"
            ],
            "image/png": "[encoded data removed]"
          },
          "metadata": {
            "needs_background": "light"
          }
        }
      ]
    },
    {
      "cell_type": "markdown",
      "metadata": {
        "id": "4H-2ymq4ZG-b"
      },
      "source": [
        "Insert comments here"
      ]
    },
    {
      "cell_type": "markdown",
      "metadata": {
        "id": "YgC3DIETZG-b"
      },
      "source": [
        "# Question 4\n",
        "- Split the data into training and test sets.  \n",
        "- Use 20% of the data for test and a random state of 124.  "
      ]
    },
    {
      "cell_type": "code",
      "execution_count": 29,
      "metadata": {
        "id": "mn-sS4G-ZG-b",
        "outputId": "7e4da405-a96f-4652-db82-2adf58b2df08",
        "colab": {
          "base_uri": "https://localhost:8080/"
        }
      },
      "outputs": [
        {
          "output_type": "stream",
          "name": "stdout",
          "text": [
            "Training set shape: (800, 18) (800,)\n",
            "Test set shape: (200, 18) (200,)\n"
          ]
        }
      ],
      "source": [
        "from sklearn.model_selection import train_test_split\n",
        "\n",
        "X = df.drop('left_company', axis=1)\n",
        "y = df['left_company']\n",
        "\n",
        "X_train, X_test, y_train, y_test = train_test_split(X, y, test_size=0.2, random_state=42)\n",
        "\n",
        "print('Training set shape:', X_train.shape, y_train.shape)\n",
        "print('Test set shape:', X_test.shape, y_test.shape)\n"
      ]
    },
    {
      "cell_type": "markdown",
      "metadata": {
        "id": "1hUWcdCPZG-b"
      },
      "source": [
        "# Question 5\n",
        "- Create a pipeline to process the numerical data.  \n",
        "- Create a pipeline to process the categorical data.  \n",
        "\n",
        "Verify each pipeline contains the columns you would expect using a fit_transform on the training data, i.e., print the shapes of the fit_transforms for each pipeline."
      ]
    },
    {
      "cell_type": "code",
      "source": [
        "numerical_transformer = Pipeline(steps=[\n",
        "    ('imputer', SimpleImputer(strategy='median')),\n",
        "    ('scaler', StandardScaler())\n",
        "])\n",
        "\n",
        "categorical_transformer = Pipeline(steps=[\n",
        "    ('imputer', SimpleImputer(strategy='most_frequent')),\n",
        "    ('onehot', OneHotEncoder(handle_unknown='ignore'))\n",
        "])\n",
        "\n",
        "preprocessor = ColumnTransformer(transformers=[\n",
        "    ('num', numerical_transformer, numerical_vars),\n",
        "    ('cat', categorical_transformer, categorical_vars)\n",
        "])\n",
        "\n",
        "X_train_processed = preprocessor.fit_transform(X_train)\n",
        "\n",
        "print(\"Numerical features shape:\", X_train_processed[:, :len(numerical_vars)].shape)\n",
        "print(\"Categorical features shape:\", X_train_processed[:, len(numerical_vars):].shape)\n"
      ],
      "metadata": {
        "id": "kQm9_B04glpR",
        "outputId": "e8823ca0-a8d6-4c7d-96f3-8893e39c127d",
        "colab": {
          "base_uri": "https://localhost:8080/"
        }
      },
      "execution_count": 30,
      "outputs": [
        {
          "output_type": "stream",
          "name": "stdout",
          "text": [
            "Numerical features shape: (800, 6)\n",
            "Categorical features shape: (800, 86)\n"
          ]
        }
      ]
    },
    {
      "cell_type": "markdown",
      "metadata": {
        "id": "15ET2WTiZG-c"
      },
      "source": [
        "# Question 6\n",
        "- Create a pipeline that combines the pre-processing and implements a logistic regression model.  \n",
        "- Print the accuracy on the training set and the test set.\n",
        "- Do you have any concerns of overfitting based on the differences between the two accuracy scores?"
      ]
    },
    {
      "cell_type": "code",
      "source": [
        "clf = Pipeline(steps=[('preprocessor', preprocessor),\n",
        "                      ('classifier', LogisticRegression(max_iter=1000))])"
      ],
      "metadata": {
        "id": "bsmqneayPHq2"
      },
      "execution_count": 31,
      "outputs": []
    },
    {
      "cell_type": "code",
      "source": [
        "from sklearn.compose import ColumnTransformer\n",
        "clf.fit(X_train, y_train)\n",
        "y_pred_train = clf.predict(X_train)\n",
        "y_pred_test = clf.predict(X_test)"
      ],
      "metadata": {
        "id": "NnDz39CCOZvi"
      },
      "execution_count": 32,
      "outputs": []
    },
    {
      "cell_type": "code",
      "source": [
        "print('Training accuracy: {:.2f}'.format(accuracy_score(y_train, y_pred_train)))\n",
        "print('Test accuracy: {:.2f}'.format(accuracy_score(y_test, y_pred_test)))"
      ],
      "metadata": {
        "colab": {
          "base_uri": "https://localhost:8080/"
        },
        "id": "lG_6VmaGOq5x",
        "outputId": "a941723a-b215-4685-b4ff-86e9ff8c9f12"
      },
      "execution_count": 33,
      "outputs": [
        {
          "output_type": "stream",
          "name": "stdout",
          "text": [
            "Training accuracy: 0.75\n",
            "Test accuracy: 0.70\n"
          ]
        }
      ]
    },
    {
      "cell_type": "markdown",
      "metadata": {
        "id": "V0X0oys2ZG-c"
      },
      "source": [
        "## Insert comments here\n",
        "\n",
        "Because there is no statistically significant difference between training and test accuracy scores, I didn't see any big worries regarding overfitting. However, we might want to experiment with various models or tweak the hyperparameters to see if we can increase the test accuracy score."
      ]
    },
    {
      "cell_type": "markdown",
      "metadata": {
        "id": "a_bPClVdZG-c"
      },
      "source": [
        "# Question 7\n",
        "What would you recommend as potential next steps for continuing to develop and evaluate a model?"
      ]
    },
    {
      "cell_type": "markdown",
      "metadata": {
        "id": "t4vksthRZG-c"
      },
      "source": [
        "Insert comments here\n",
        "\n",
        "Consider developing new features or altering existing ones to better capture connections in data. You might, for example, experiment with merging numerous characteristics or developing interaction words. This can frequently result in increased model performance.\n",
        "\n",
        "Model selection: Experiment with several models or methods to discover which one works best on your data. Decision trees, random forests, support vector machines (SVMs), and neural networks are some prominent approaches for categorization challenges.\n",
        "\n",
        "When you've chosen a model, experiment with altering its hyperparameters to see if you can increase performance. Hyperparameters are settings that are defined by the user rather than learnt from data, such as the learning rate of a neural network or the maximum depth of a decision tree.\n",
        "\n",
        "Try creating new features or modifying existing ones to better collect data linkages. You might, for example, experiment with combining many features or creating interaction words. This typically leads to improved model performance.\n",
        "\n",
        "Try with different models or methodologies to see which one works best with your data. Some popular techniques for classification problems include decision trees, random forests, support vector machines (SVMs), and neural networks.\n",
        "\n",
        "When you've decided on a model, play around with its hyperparameters to see if you can improve performance. Such as the learning rate of a neural network or the maximum depth of a decision tree, hyperparameters are variables that are established by the user rather than learned from data."
      ]
    }
  ],
  "metadata": {
    "kernelspec": {
      "display_name": "Python 3.7.3 64-bit ('base': conda)",
      "language": "python",
      "name": "python37364bitbaseconda3e66817595a24f3b851fad3315f1c145"
    },
    "language_info": {
      "codemirror_mode": {
        "name": "ipython",
        "version": 3
      },
      "file_extension": ".py",
      "mimetype": "text/x-python",
      "name": "python",
      "nbconvert_exporter": "python",
      "pygments_lexer": "ipython3",
      "version": "3.7.3"
    },
    "colab": {
      "provenance": []
    }
  },
  "nbformat": 4,
  "nbformat_minor": 0
}